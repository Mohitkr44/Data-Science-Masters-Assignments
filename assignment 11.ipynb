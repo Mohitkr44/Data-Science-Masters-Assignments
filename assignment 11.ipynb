{
 "cells": [
  {
   "cell_type": "code",
   "execution_count": null,
   "id": "b238b3a1-f046-4548-90c7-31af8612ca4f",
   "metadata": {},
   "outputs": [],
   "source": [
    "Question 1: Explain why we have to use the Exception class while creating a Custom Exception.\n",
    "Note: Here Exception class refers to the base class for all the exceptions"
   ]
  },
  {
   "cell_type": "code",
   "execution_count": null,
   "id": "179363fa-43ca-4719-a730-708728fdd402",
   "metadata": {},
   "outputs": [],
   "source": [
    "In Python, all built-in exceptions are subclasses of the Exception class. When we create a custom exception, we typically want it to be a subclass of one of the existing exceptions, or of the Exception class itself.\n",
    "\n",
    "There are several reasons for using the Exception class as the base class for a custom exception:\n",
    "\n",
    "Inheritance: By inheriting from the Exception class, our custom exception will inherit all the behavior and attributes of the Exception class, including the ability to raise and catch the exception, and the ability to customize the error message.\n",
    "\n",
    "Compatibility: By inheriting from the Exception class, our custom exception will be compatible with all the built-in exception handling mechanisms in Python, such as the try-except statement and the raise statement.\n",
    "\n",
    "Consistency: By using the Exception class as the base class for all our custom exceptions, we ensure that they have a consistent interface and behavior, which makes it easier to write code that handles multiple types of exceptions.\n",
    "\n",
    "Overall, using the Exception class as the base class for a custom exception is a best practice in Python, as it ensures that the custom exception behaves like a standard Python exception and is easy to integrate with existing code.\n",
    "\n",
    "here's a simple example of creating a custom exception that inherits from the Exception class:"
   ]
  },
  {
   "cell_type": "code",
   "execution_count": 1,
   "id": "6f0e9ef7-f448-4276-a3c3-fb9959c18271",
   "metadata": {},
   "outputs": [],
   "source": [
    "class validateage(Exception):\n",
    "    def __init__(self,msg):\n",
    "        self.msg=msg\n",
    "    "
   ]
  },
  {
   "cell_type": "code",
   "execution_count": 2,
   "id": "7d9b3f6e-1911-4eb3-9672-6f68f1a33e2f",
   "metadata": {},
   "outputs": [],
   "source": [
    "def validate_age(age):\n",
    "    if age <0 :\n",
    "        raise validateage(\"age cannot be negative\")\n",
    "        \n",
    "    elif age>120:\n",
    "        raise validateage(\"age is out of range\")\n",
    "        \n",
    "    else :\n",
    "        raise validateage(\"age is valid\")\n",
    "        \n",
    "        "
   ]
  },
  {
   "cell_type": "code",
   "execution_count": 3,
   "id": "46af4959-8ae4-4b78-b57f-d785a9cd77ab",
   "metadata": {},
   "outputs": [
    {
     "name": "stdin",
     "output_type": "stream",
     "text": [
      "enter age 23\n"
     ]
    },
    {
     "name": "stdout",
     "output_type": "stream",
     "text": [
      "age is valid\n"
     ]
    }
   ],
   "source": [
    "try :\n",
    "    age=int(input(\"enter age\"))\n",
    "    validate_age(age)\n",
    "    \n",
    "except validateage as e :\n",
    "    print(e)"
   ]
  },
  {
   "cell_type": "code",
   "execution_count": null,
   "id": "00b74c9e-217a-4d9e-b213-5611e88358ce",
   "metadata": {},
   "outputs": [],
   "source": [
    "Question 2: Write a python program to print Python Exception Hierarchy."
   ]
  },
  {
   "cell_type": "code",
   "execution_count": 4,
   "id": "801f98c1-7ee4-4b3e-bbec-5121261b3304",
   "metadata": {},
   "outputs": [
    {
     "name": "stdout",
     "output_type": "stream",
     "text": [
      "Exception\n",
      " TypeError\n",
      "  FloatOperation\n",
      "  MultipartConversionError\n",
      " StopAsyncIteration\n",
      " StopIteration\n",
      " ImportError\n",
      "  ModuleNotFoundError\n",
      "  ZipImportError\n",
      " OSError\n",
      "  ConnectionError\n",
      "   BrokenPipeError\n",
      "   ConnectionAbortedError\n",
      "   ConnectionRefusedError\n",
      "   ConnectionResetError\n",
      "    RemoteDisconnected\n",
      "  BlockingIOError\n",
      "  ChildProcessError\n",
      "  FileExistsError\n",
      "  FileNotFoundError\n",
      "  IsADirectoryError\n",
      "  NotADirectoryError\n",
      "  InterruptedError\n",
      "   InterruptedSystemCall\n",
      "  PermissionError\n",
      "  ProcessLookupError\n",
      "  TimeoutError\n",
      "  UnsupportedOperation\n",
      "  itimer_error\n",
      "  herror\n",
      "  gaierror\n",
      "  SSLError\n",
      "   SSLCertVerificationError\n",
      "   SSLZeroReturnError\n",
      "   SSLWantWriteError\n",
      "   SSLWantReadError\n",
      "   SSLSyscallError\n",
      "   SSLEOFError\n",
      "  Error\n",
      "   SameFileError\n",
      "  SpecialFileError\n",
      "  ExecError\n",
      "  ReadError\n",
      "  URLError\n",
      "   HTTPError\n",
      "   ContentTooShortError\n",
      "  BadGzipFile\n",
      " EOFError\n",
      "  IncompleteReadError\n",
      " RuntimeError\n",
      "  RecursionError\n",
      "  NotImplementedError\n",
      "   ZMQVersionError\n",
      "   StdinNotImplementedError\n",
      "  _DeadlockError\n",
      "  BrokenBarrierError\n",
      "  BrokenExecutor\n",
      "   BrokenThreadPool\n",
      "  SendfileNotAvailableError\n",
      "  ExtractionError\n",
      "  VariableError\n",
      " NameError\n",
      "  UnboundLocalError\n",
      " AttributeError\n",
      "  FrozenInstanceError\n",
      " SyntaxError\n",
      "  IndentationError\n",
      "   TabError\n",
      " LookupError\n",
      "  IndexError\n",
      "  KeyError\n",
      "   NoSuchKernel\n",
      "   UnknownBackend\n",
      "  CodecRegistryError\n",
      " ValueError\n",
      "  UnicodeError\n",
      "   UnicodeEncodeError\n",
      "   UnicodeDecodeError\n",
      "   UnicodeTranslateError\n",
      "  UnsupportedOperation\n",
      "  JSONDecodeError\n",
      "  SSLCertVerificationError\n",
      "  Error\n",
      "  UnsupportedDigestmodError\n",
      "  IllegalMonthError\n",
      "  IllegalWeekdayError\n",
      "  ParserError\n",
      "  ClassNotFound\n",
      "  ClipboardEmpty\n",
      "  MessageDefect\n",
      "   NoBoundaryInMultipartDefect\n",
      "   StartBoundaryNotFoundDefect\n",
      "   CloseBoundaryNotFoundDefect\n",
      "   FirstHeaderLineIsContinuationDefect\n",
      "   MisplacedEnvelopeHeaderDefect\n",
      "   MissingHeaderBodySeparatorDefect\n",
      "   MultipartInvariantViolationDefect\n",
      "   InvalidMultipartContentTransferEncodingDefect\n",
      "   UndecodableBytesDefect\n",
      "   InvalidBase64PaddingDefect\n",
      "   InvalidBase64CharactersDefect\n",
      "   InvalidBase64LengthDefect\n",
      "   HeaderDefect\n",
      "    InvalidHeaderDefect\n",
      "    HeaderMissingRequiredValue\n",
      "    NonPrintableDefect\n",
      "    ObsoleteHeaderDefect\n",
      "    NonASCIILocalPartDefect\n",
      "    InvalidDateDefect\n",
      "  MacroToEdit\n",
      "  InvalidFileException\n",
      "  UnequalIterablesError\n",
      "  InvalidVersion\n",
      "  _InvalidELFFileHeader\n",
      "  InvalidWheelFilename\n",
      "  InvalidSdistFilename\n",
      "  InvalidSpecifier\n",
      "  InvalidMarker\n",
      "  UndefinedComparison\n",
      "  UndefinedEnvironmentName\n",
      "  InvalidRequirement\n",
      "   RequirementParseError\n",
      "  InvalidVersion\n",
      " AssertionError\n",
      " ArithmeticError\n",
      "  FloatingPointError\n",
      "  OverflowError\n",
      "  ZeroDivisionError\n",
      "   DivisionByZero\n",
      "   DivisionUndefined\n",
      "  DecimalException\n",
      "   Clamped\n",
      "   Rounded\n",
      "    Underflow\n",
      "    Overflow\n",
      "   Inexact\n",
      "    Underflow\n",
      "    Overflow\n",
      "   Subnormal\n",
      "    Underflow\n",
      "   DivisionByZero\n",
      "   FloatOperation\n",
      "   InvalidOperation\n",
      "    ConversionSyntax\n",
      "    DivisionImpossible\n",
      "    DivisionUndefined\n",
      "    InvalidContext\n",
      " SystemError\n",
      "  CodecRegistryError\n",
      " ReferenceError\n",
      " MemoryError\n",
      " BufferError\n",
      " Warning\n",
      "  UserWarning\n",
      "   GetPassWarning\n",
      "   FormatterWarning\n",
      "  EncodingWarning\n",
      "  DeprecationWarning\n",
      "   ProvisionalWarning\n",
      "  PendingDeprecationWarning\n",
      "  SyntaxWarning\n",
      "  RuntimeWarning\n",
      "   ProactorSelectorThreadWarning\n",
      "   UnknownTimezoneWarning\n",
      "   PEP440Warning\n",
      "  FutureWarning\n",
      "   ProvisionalCompleterWarning\n",
      "  ImportWarning\n",
      "  UnicodeWarning\n",
      "  BytesWarning\n",
      "  ResourceWarning\n",
      "  DeprecatedTzFormatWarning\n",
      "  PkgResourcesDeprecationWarning\n",
      " _OptionError\n",
      " _Error\n",
      " error\n",
      " Verbose\n",
      " Error\n",
      " SubprocessError\n",
      "  CalledProcessError\n",
      "  TimeoutExpired\n",
      " TokenError\n",
      " StopTokenizing\n",
      " ClassFoundException\n",
      " EndOfBlock\n",
      " TraitError\n",
      " Error\n",
      " Error\n",
      "  CancelledError\n",
      "  TimeoutError\n",
      "  InvalidStateError\n",
      " _GiveupOnSendfile\n",
      " error\n",
      " Incomplete\n",
      " TimeoutError\n",
      " InvalidStateError\n",
      " LimitOverrunError\n",
      " QueueEmpty\n",
      " QueueFull\n",
      " Empty\n",
      " Full\n",
      " ArgumentError\n",
      " ZMQBaseError\n",
      "  ZMQError\n",
      "   ContextTerminated\n",
      "   Again\n",
      "   InterruptedSystemCall\n",
      "  ZMQBindError\n",
      "  NotDone\n",
      " PickleError\n",
      "  PicklingError\n",
      "  UnpicklingError\n",
      " _Stop\n",
      " ArgumentError\n",
      " ArgumentTypeError\n",
      " ConfigError\n",
      "  ConfigLoaderError\n",
      "   ArgumentError\n",
      "  ConfigFileNotFound\n",
      " ConfigurableError\n",
      "  MultipleInstanceError\n",
      " ApplicationError\n",
      " error\n",
      " TimeoutError\n",
      " error\n",
      " ReturnValueIgnoredError\n",
      " KeyReuseError\n",
      " UnknownKeyError\n",
      " LeakedCallbackError\n",
      " BadYieldError\n",
      " ReturnValueIgnoredError\n",
      " Return\n",
      " InvalidPortNumber\n",
      " error\n",
      " LZMAError\n",
      " RegistryError\n",
      " _GiveupOnFastCopy\n",
      " Error\n",
      "  NoSectionError\n",
      "  DuplicateSectionError\n",
      "  DuplicateOptionError\n",
      "  NoOptionError\n",
      "  InterpolationError\n",
      "   InterpolationMissingOptionError\n",
      "   InterpolationSyntaxError\n",
      "   InterpolationDepthError\n",
      "  ParsingError\n",
      "   MissingSectionHeaderError\n",
      " NoIPAddresses\n",
      " BadZipFile\n",
      " LargeZipFile\n",
      " BadEntryPoint\n",
      " NoSuchEntryPoint\n",
      " DuplicateKernelError\n",
      " ErrorDuringImport\n",
      " NotOneValueFound\n",
      " CannotEval\n",
      " OptionError\n",
      " BdbQuit\n",
      " Restart\n",
      " ExceptionPexpect\n",
      "  EOF\n",
      "  TIMEOUT\n",
      " PtyProcessError\n",
      " FindCmdError\n",
      " HomeDirError\n",
      " ProfileDirError\n",
      " IPythonCoreError\n",
      "  TryNext\n",
      "  UsageError\n",
      "  StdinNotImplementedError\n",
      " InputRejected\n",
      " GetoptError\n",
      " ErrorToken\n",
      " PrefilterError\n",
      " AliasError\n",
      "  InvalidAliasError\n",
      " Error\n",
      "  InterfaceError\n",
      "  DatabaseError\n",
      "   InternalError\n",
      "   OperationalError\n",
      "   ProgrammingError\n",
      "   IntegrityError\n",
      "   DataError\n",
      "   NotSupportedError\n",
      " Warning\n",
      " SpaceInInput\n",
      " DOMException\n",
      "  IndexSizeErr\n",
      "  DomstringSizeErr\n",
      "  HierarchyRequestErr\n",
      "  WrongDocumentErr\n",
      "  InvalidCharacterErr\n",
      "  NoDataAllowedErr\n",
      "  NoModificationAllowedErr\n",
      "  NotFoundErr\n",
      "  NotSupportedErr\n",
      "  InuseAttributeErr\n",
      "  InvalidStateErr\n",
      "  SyntaxErr\n",
      "  InvalidModificationErr\n",
      "  NamespaceErr\n",
      "  InvalidAccessErr\n",
      "  ValidationErr\n",
      " ValidationError\n",
      " EditReadOnlyBuffer\n",
      " _Retry\n",
      " InvalidLayoutError\n",
      " HeightIsUnknownError\n",
      " ParserSyntaxError\n",
      " InternalParseError\n",
      " _PositionUpdatingFinished\n",
      " SimpleGetItemNotFound\n",
      " UncaughtAttributeError\n",
      " HasNoContext\n",
      " ParamIssue\n",
      " _JediError\n",
      "  InternalError\n",
      "  WrongVersion\n",
      "  RefactoringError\n",
      " OnErrorLeaf\n",
      " InvalidPythonEnvironment\n",
      " MessageError\n",
      "  MessageParseError\n",
      "   HeaderParseError\n",
      "   BoundaryError\n",
      "  MultipartConversionError\n",
      "  CharsetError\n",
      " Error\n",
      " HTTPException\n",
      "  NotConnected\n",
      "  InvalidURL\n",
      "  UnknownProtocol\n",
      "  UnknownTransferEncoding\n",
      "  UnimplementedFileMode\n",
      "  IncompleteRead\n",
      "  ImproperConnectionState\n",
      "   CannotSendRequest\n",
      "   CannotSendHeader\n",
      "   ResponseNotReady\n",
      "  BadStatusLine\n",
      "   RemoteDisconnected\n",
      "  LineTooLong\n",
      " InteractivelyDefined\n",
      " KillEmbedded\n",
      " Error\n",
      "  NoSuchProcess\n",
      "   ZombieProcess\n",
      "  AccessDenied\n",
      "  TimeoutExpired\n",
      " _Ipv6UnsupportedError\n",
      " QueueEmpty\n",
      " QueueFull\n",
      " DebuggerInitializationError\n",
      " ExpatError\n",
      " Error\n",
      "  ProtocolError\n",
      "  ResponseError\n",
      "  Fault\n",
      " ParseBaseException\n",
      "  ParseException\n",
      "  ParseFatalException\n",
      "   ParseSyntaxException\n",
      " RecursiveGrammarException\n",
      " ResolutionError\n",
      "  VersionConflict\n",
      "   ContextualVersionConflict\n",
      "  DistributionNotFound\n",
      "  UnknownExtra\n",
      " _Error\n",
      " UnableToResolveVariableException\n",
      " InvalidTypeInArgsException\n",
      " validateage\n"
     ]
    }
   ],
   "source": [
    "import logging \n",
    "\n",
    "def print_exception_hierarchy(exception,level=0):\n",
    "    print(\" \"*level+exception.__name__)\n",
    "    logging.info(\" \"*level+exception.__name__)\n",
    "    for subclass in exception.__subclasses__():\n",
    "        print_exception_hierarchy(subclass,level+1)\n",
    "        logging.info(f\"Subclass:{subclass},level:{level}\")\n",
    "        \n",
    "print_exception_hierarchy(Exception)"
   ]
  },
  {
   "cell_type": "code",
   "execution_count": null,
   "id": "253bc3d6-213c-4308-97cc-0ed416c109f7",
   "metadata": {},
   "outputs": [],
   "source": [
    "Question 3: What errors are defined in the ArithmeticError class? Explain any two with an example."
   ]
  },
  {
   "cell_type": "code",
   "execution_count": null,
   "id": "4f8d823d-2dcb-4ac4-9e2d-3885e2190d66",
   "metadata": {},
   "outputs": [],
   "source": [
    "The ArithmeticError class is a built-in exception class in Python that is raised when an arithmetic operation fails. It is the base class for all errors that occur for numeric calculations.\n",
    "\n",
    "Here are two examples of errors defined in the ArithmeticError class:\n",
    "\n",
    "ZeroDivisionError: This error is raised when a number is divided by zero.\n",
    "For example, the following code will raise a ZeroDivisionError:"
   ]
  },
  {
   "cell_type": "code",
   "execution_count": 5,
   "id": "e66b3403-2b26-4118-8ec0-e356b9acaf70",
   "metadata": {},
   "outputs": [
    {
     "ename": "ZeroDivisionError",
     "evalue": "division by zero",
     "output_type": "error",
     "traceback": [
      "\u001b[0;31m---------------------------------------------------------------------------\u001b[0m",
      "\u001b[0;31mZeroDivisionError\u001b[0m                         Traceback (most recent call last)",
      "Cell \u001b[0;32mIn[5], line 1\u001b[0m\n\u001b[0;32m----> 1\u001b[0m \u001b[38;5;241;43m2\u001b[39;49m\u001b[38;5;241;43m/\u001b[39;49m\u001b[38;5;241;43m0\u001b[39;49m\n",
      "\u001b[0;31mZeroDivisionError\u001b[0m: division by zero"
     ]
    }
   ],
   "source": [
    "2/0"
   ]
  },
  {
   "cell_type": "code",
   "execution_count": null,
   "id": "35977db5-7547-4e13-99da-f6bbb650900d",
   "metadata": {},
   "outputs": [],
   "source": [
    "OverflowError: This error is raised when the result of an arithmetic operation is too large to be represented by the numeric type.\n",
    "For example, the following code will raise an OverflowError:"
   ]
  },
  {
   "cell_type": "code",
   "execution_count": 6,
   "id": "7a1679d7-892c-4619-9d6a-9d3f452c8e72",
   "metadata": {},
   "outputs": [],
   "source": [
    "import sys "
   ]
  },
  {
   "cell_type": "code",
   "execution_count": 7,
   "id": "2b24b67e-af5c-4606-82b0-d02dc56f3a9b",
   "metadata": {},
   "outputs": [
    {
     "name": "stdout",
     "output_type": "stream",
     "text": [
      "inf\n"
     ]
    }
   ],
   "source": [
    "x=sys.float_info.max\n",
    "y=x*2\n",
    "print(y)"
   ]
  },
  {
   "cell_type": "code",
   "execution_count": null,
   "id": "8dd9f865-1534-4bb8-b06f-495fce9226b5",
   "metadata": {},
   "outputs": [],
   "source": [
    "In this example, we are trying to multiply the maximum float value by 2, which results in a value that exceeds the maximum representable value for a float. This causes the result to be represented as infinity (inf) instead of a numeric value, indicating that an overflow has occurred"
   ]
  },
  {
   "cell_type": "code",
   "execution_count": null,
   "id": "69bc5ef3-20e5-4ee6-8e41-1cb9340120a9",
   "metadata": {},
   "outputs": [],
   "source": [
    "Question 4: Why LookupError class is used? Explain with an example KeyError and IndexError."
   ]
  },
  {
   "cell_type": "code",
   "execution_count": null,
   "id": "e588eded-ea46-433d-9108-f68c40d163e6",
   "metadata": {},
   "outputs": [],
   "source": [
    "LookupError is the Base class for errors raised when something can't be found.\n",
    "\n",
    "KeyError: This exception is raised when we try to access a dictionary key that does not exist."
   ]
  },
  {
   "cell_type": "code",
   "execution_count": 8,
   "id": "8c0b5141-5792-4685-b975-035629bfbb1a",
   "metadata": {},
   "outputs": [
    {
     "ename": "KeyError",
     "evalue": "'key4'",
     "output_type": "error",
     "traceback": [
      "\u001b[0;31m---------------------------------------------------------------------------\u001b[0m",
      "\u001b[0;31mKeyError\u001b[0m                                  Traceback (most recent call last)",
      "Cell \u001b[0;32mIn[8], line 2\u001b[0m\n\u001b[1;32m      1\u001b[0m d\u001b[38;5;241m=\u001b[39m{\u001b[38;5;124m\"\u001b[39m\u001b[38;5;124mkey1\u001b[39m\u001b[38;5;124m\"\u001b[39m:\u001b[38;5;124m\"\u001b[39m\u001b[38;5;124mvalue1\u001b[39m\u001b[38;5;124m\"\u001b[39m,\u001b[38;5;124m\"\u001b[39m\u001b[38;5;124mkey2\u001b[39m\u001b[38;5;124m\"\u001b[39m:\u001b[38;5;124m\"\u001b[39m\u001b[38;5;124mvalue2\u001b[39m\u001b[38;5;124m\"\u001b[39m,\u001b[38;5;124m\"\u001b[39m\u001b[38;5;124mkey3\u001b[39m\u001b[38;5;124m\"\u001b[39m:\u001b[38;5;124m\"\u001b[39m\u001b[38;5;124mvalue3\u001b[39m\u001b[38;5;124m\"\u001b[39m}\n\u001b[0;32m----> 2\u001b[0m \u001b[43md\u001b[49m\u001b[43m[\u001b[49m\u001b[38;5;124;43m\"\u001b[39;49m\u001b[38;5;124;43mkey4\u001b[39;49m\u001b[38;5;124;43m\"\u001b[39;49m\u001b[43m]\u001b[49m\n",
      "\u001b[0;31mKeyError\u001b[0m: 'key4'"
     ]
    }
   ],
   "source": [
    "d={\"key1\":\"value1\",\"key2\":\"value2\",\"key3\":\"value3\"}\n",
    "d[\"key4\"]"
   ]
  },
  {
   "cell_type": "code",
   "execution_count": null,
   "id": "a5f24574-38d2-4a18-afd1-10c64c9653ba",
   "metadata": {},
   "outputs": [],
   "source": [
    "IndexError: This exception is raised when we try to access a list index that is out of range."
   ]
  },
  {
   "cell_type": "code",
   "execution_count": 9,
   "id": "1a878e19-48e5-4098-a152-df5601189c5a",
   "metadata": {},
   "outputs": [
    {
     "ename": "IndexError",
     "evalue": "list index out of range",
     "output_type": "error",
     "traceback": [
      "\u001b[0;31m---------------------------------------------------------------------------\u001b[0m",
      "\u001b[0;31mIndexError\u001b[0m                                Traceback (most recent call last)",
      "Cell \u001b[0;32mIn[9], line 2\u001b[0m\n\u001b[1;32m      1\u001b[0m l\u001b[38;5;241m=\u001b[39m[\u001b[38;5;241m1\u001b[39m,\u001b[38;5;241m2\u001b[39m,\u001b[38;5;241m3\u001b[39m,\u001b[38;5;241m4\u001b[39m,\u001b[38;5;241m5\u001b[39m,\u001b[38;5;241m6\u001b[39m,\u001b[38;5;241m7\u001b[39m,\u001b[38;5;241m8\u001b[39m,\u001b[38;5;241m9\u001b[39m,\u001b[38;5;241m10\u001b[39m]\n\u001b[0;32m----> 2\u001b[0m \u001b[43ml\u001b[49m\u001b[43m[\u001b[49m\u001b[38;5;241;43m11\u001b[39;49m\u001b[43m]\u001b[49m\n",
      "\u001b[0;31mIndexError\u001b[0m: list index out of range"
     ]
    }
   ],
   "source": [
    "l=[1,2,3,4,5,6,7,8,9,10]\n",
    "l[11]"
   ]
  },
  {
   "cell_type": "code",
   "execution_count": null,
   "id": "73a21fd6-33b0-4613-af67-d9b55d06d6f3",
   "metadata": {},
   "outputs": [],
   "source": [
    "Question 5 : Explain ImportError. What is ModuleNotFoundError?"
   ]
  },
  {
   "cell_type": "code",
   "execution_count": null,
   "id": "3ca34ccc-70b5-47ee-80a3-0c4e2e515922",
   "metadata": {},
   "outputs": [],
   "source": [
    "In Python, ImportError is a built-in exception class that is raised when an imported module, package, or name cannot be found or loaded. This error can occur for several reasons, such as a typo in the module or package name, the module or package not being installed, or the module or package being in a different directory than expected.\n",
    "\n",
    "For example, suppose you have a Python script that imports a module called maths using the import statement. If the maths module is not installed or is not available in the Python path, Python will raise an ImportError."
   ]
  },
  {
   "cell_type": "code",
   "execution_count": 10,
   "id": "8bb05447-a290-476d-90e7-d8acd2c93991",
   "metadata": {},
   "outputs": [
    {
     "ename": "ModuleNotFoundError",
     "evalue": "No module named 'maths'",
     "output_type": "error",
     "traceback": [
      "\u001b[0;31m---------------------------------------------------------------------------\u001b[0m",
      "\u001b[0;31mModuleNotFoundError\u001b[0m                       Traceback (most recent call last)",
      "Cell \u001b[0;32mIn[10], line 1\u001b[0m\n\u001b[0;32m----> 1\u001b[0m \u001b[38;5;28;01mimport\u001b[39;00m \u001b[38;5;21;01mmaths\u001b[39;00m \n",
      "\u001b[0;31mModuleNotFoundError\u001b[0m: No module named 'maths'"
     ]
    }
   ],
   "source": [
    "import maths "
   ]
  },
  {
   "cell_type": "code",
   "execution_count": null,
   "id": "4d51fed6-f783-4502-9358-4a9a7b2bc0df",
   "metadata": {},
   "outputs": [],
   "source": [
    "Question 6 : List down some best practices for exception handling in python."
   ]
  },
  {
   "cell_type": "code",
   "execution_count": null,
   "id": "cb586266-1893-473c-a564-531b746f099b",
   "metadata": {},
   "outputs": [],
   "source": [
    "Catch only the specific exceptions that you are expecting and handle them accordingly. This helps in making your code more robust and maintainable.\n",
    "Use the try-except-else-finally block for handling exceptions. The try block contains the code that might raise an exception, the except block handles the exception, the else block executes if no exception is raised, and the finally block executes regardless of whether an exception is raised or not.\n",
    "Provide informative error messages that help in diagnosing and fixing the issue. Avoid generic error messages that do not provide any useful information to the user.\n",
    "Use logging to record errors and exceptions instead of printing them to the console. This helps in debugging and maintaining the code.\n",
    "Use multiple except blocks to handle different exceptions. This allows you to handle different exceptions in different ways, instead of having a single catch-all except block that handles all exceptions in the same way.\n",
    "Use context managers like with statements to ensure that resources like files and sockets are properly closed and cleaned up after use, even if an exception is raised.\n",
    "Avoid catching and silently ignoring exceptions, as this can lead to hard-to-diagnose bugs later on. Instead, log the exception and/or re-raise it with additional context.\n",
    "Do not use exceptions for control flow. Exceptions should only be used to handle exceptional or unexpected conditions, not to control the flow of the program.\n",
    "Always clean up after an exception. This includes closing files, freeing resources, and restoring the program state to its previous state.\n"
   ]
  }
 ],
 "metadata": {
  "kernelspec": {
   "display_name": "Python 3 (ipykernel)",
   "language": "python",
   "name": "python3"
  },
  "language_info": {
   "codemirror_mode": {
    "name": "ipython",
    "version": 3
   },
   "file_extension": ".py",
   "mimetype": "text/x-python",
   "name": "python",
   "nbconvert_exporter": "python",
   "pygments_lexer": "ipython3",
   "version": "3.10.8"
  }
 },
 "nbformat": 4,
 "nbformat_minor": 5
}
