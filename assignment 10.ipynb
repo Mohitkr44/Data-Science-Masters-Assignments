{
 "cells": [
  {
   "cell_type": "code",
   "execution_count": null,
   "id": "c9b98523-1b9d-4c57-8e94-ef7963f7dd46",
   "metadata": {},
   "outputs": [],
   "source": [
    "Question 1: What is an exception in python? Write the difference between Exceptions and syntax errors."
   ]
  },
  {
   "cell_type": "code",
   "execution_count": null,
   "id": "a74c8240-b3b2-405c-847e-90c27023b08f",
   "metadata": {},
   "outputs": [],
   "source": [
    "In Python, an exception is an event that occurs during the execution of a program that disrupts the normal flow of instructions. When an exception occurs, Python generates an object that represents the error, which can then be handled by the program.\n",
    "\n",
    "Exceptions in Python can be caused by a variety of factors, such as dividing by zero, referencing a non-existent variable, or opening a file that doesn't exist. Some common exceptions in Python include TypeError, ValueError, and IOError.\n",
    "\n",
    "Syntax errors, on the other hand, are errors that occur when the Python interpreter cannot understand the code that has been written. Syntax errors are usually caused by spelling mistakes, missing punctuation, or incorrect use of Python syntax. Unlike exceptions, which occur during the execution of the program, syntax errors prevent the program from running at all.\n",
    "\n",
    "The key difference between exceptions and syntax errors is that exceptions occur during the execution of a program, while syntax errors occur before the program is executed. Exceptions can be handled with try-except blocks, which allow the program to continue running despite the error, while syntax errors must be fixed before the program can be executed."
   ]
  },
  {
   "cell_type": "code",
   "execution_count": null,
   "id": "aebee101-a603-498c-852d-a39ae34cfdf7",
   "metadata": {},
   "outputs": [],
   "source": [
    "Question 2: What happens if exception is not handled? Explain with an example."
   ]
  },
  {
   "cell_type": "code",
   "execution_count": null,
   "id": "454288aa-32bc-4797-a784-3b612d481dea",
   "metadata": {},
   "outputs": [],
   "source": [
    "If an exception is not handled in a Python program, it will cause the program to terminate abruptly and display an error message indicating the type of exception that occurred.\n",
    "\n",
    "For example, let's consider a Python program that attempts to open a file:"
   ]
  },
  {
   "cell_type": "code",
   "execution_count": 1,
   "id": "c82696aa-3749-4559-8e5b-1dc0fb103753",
   "metadata": {},
   "outputs": [
    {
     "name": "stdout",
     "output_type": "stream",
     "text": [
      "this block handles error \n"
     ]
    }
   ],
   "source": [
    "try :\n",
    "    f=open(\"asd.txt\",\"r\")\n",
    "    \n",
    "except :\n",
    "    print(\"this block handles error \")"
   ]
  },
  {
   "cell_type": "code",
   "execution_count": null,
   "id": "046cdbda-1afb-41a2-9a74-83fa5089f8af",
   "metadata": {},
   "outputs": [],
   "source": [
    "In this program, the code inside the try block attempts to open a file named \"example.txt\" in read mode. If the file does not exist or cannot be opened for some reason, an exception will be raised.\n",
    "\n",
    "In the except block, we have a simple error handling mechanism that prints a generic error message if an exception occurs. This allows the program to continue running, even if the file cannot be opened.\n",
    "\n",
    "However, if we remove the except block from the program, the exception will not be handled, and the program will terminate abruptly with an error message:"
   ]
  },
  {
   "cell_type": "code",
   "execution_count": 2,
   "id": "31fd87f1-14e4-46a8-8b41-596045205bfb",
   "metadata": {},
   "outputs": [
    {
     "ename": "FileNotFoundError",
     "evalue": "[Errno 2] No such file or directory: 'asd.txt'",
     "output_type": "error",
     "traceback": [
      "\u001b[0;31m---------------------------------------------------------------------------\u001b[0m",
      "\u001b[0;31mFileNotFoundError\u001b[0m                         Traceback (most recent call last)",
      "Cell \u001b[0;32mIn[2], line 1\u001b[0m\n\u001b[0;32m----> 1\u001b[0m f\u001b[38;5;241m=\u001b[39m\u001b[38;5;28;43mopen\u001b[39;49m\u001b[43m(\u001b[49m\u001b[38;5;124;43m\"\u001b[39;49m\u001b[38;5;124;43masd.txt\u001b[39;49m\u001b[38;5;124;43m\"\u001b[39;49m\u001b[43m,\u001b[49m\u001b[38;5;124;43m\"\u001b[39;49m\u001b[38;5;124;43mr\u001b[39;49m\u001b[38;5;124;43m\"\u001b[39;49m\u001b[43m)\u001b[49m\n",
      "File \u001b[0;32m/opt/conda/lib/python3.10/site-packages/IPython/core/interactiveshell.py:282\u001b[0m, in \u001b[0;36m_modified_open\u001b[0;34m(file, *args, **kwargs)\u001b[0m\n\u001b[1;32m    275\u001b[0m \u001b[38;5;28;01mif\u001b[39;00m file \u001b[38;5;129;01min\u001b[39;00m {\u001b[38;5;241m0\u001b[39m, \u001b[38;5;241m1\u001b[39m, \u001b[38;5;241m2\u001b[39m}:\n\u001b[1;32m    276\u001b[0m     \u001b[38;5;28;01mraise\u001b[39;00m \u001b[38;5;167;01mValueError\u001b[39;00m(\n\u001b[1;32m    277\u001b[0m         \u001b[38;5;124mf\u001b[39m\u001b[38;5;124m\"\u001b[39m\u001b[38;5;124mIPython won\u001b[39m\u001b[38;5;124m'\u001b[39m\u001b[38;5;124mt let you open fd=\u001b[39m\u001b[38;5;132;01m{\u001b[39;00mfile\u001b[38;5;132;01m}\u001b[39;00m\u001b[38;5;124m by default \u001b[39m\u001b[38;5;124m\"\u001b[39m\n\u001b[1;32m    278\u001b[0m         \u001b[38;5;124m\"\u001b[39m\u001b[38;5;124mas it is likely to crash IPython. If you know what you are doing, \u001b[39m\u001b[38;5;124m\"\u001b[39m\n\u001b[1;32m    279\u001b[0m         \u001b[38;5;124m\"\u001b[39m\u001b[38;5;124myou can use builtins\u001b[39m\u001b[38;5;124m'\u001b[39m\u001b[38;5;124m open.\u001b[39m\u001b[38;5;124m\"\u001b[39m\n\u001b[1;32m    280\u001b[0m     )\n\u001b[0;32m--> 282\u001b[0m \u001b[38;5;28;01mreturn\u001b[39;00m \u001b[43mio_open\u001b[49m\u001b[43m(\u001b[49m\u001b[43mfile\u001b[49m\u001b[43m,\u001b[49m\u001b[43m \u001b[49m\u001b[38;5;241;43m*\u001b[39;49m\u001b[43margs\u001b[49m\u001b[43m,\u001b[49m\u001b[43m \u001b[49m\u001b[38;5;241;43m*\u001b[39;49m\u001b[38;5;241;43m*\u001b[39;49m\u001b[43mkwargs\u001b[49m\u001b[43m)\u001b[49m\n",
      "\u001b[0;31mFileNotFoundError\u001b[0m: [Errno 2] No such file or directory: 'asd.txt'"
     ]
    }
   ],
   "source": [
    "f=open(\"asd.txt\",\"r\")"
   ]
  },
  {
   "cell_type": "code",
   "execution_count": null,
   "id": "f707b1f1-7384-4a70-b8ff-9c5e9f18b221",
   "metadata": {},
   "outputs": [],
   "source": [
    "In this case, the FileNotFoundError exception occurred because the file \"example.txt\" does not exist in the directory where the program is running. Since the exception was not handled, the program terminated abruptly, and the error message was displayed.\n",
    "\n",
    "It is generally a good practice to handle exceptions in Python programs to prevent them from crashing and provide useful feedback to users in case something goes wrong."
   ]
  },
  {
   "cell_type": "code",
   "execution_count": null,
   "id": "c6aa6424-1b87-4cf8-80b1-7acfd4c1b2dd",
   "metadata": {},
   "outputs": [],
   "source": [
    "Question 3: Which Python Statements are used to catch and handle exceptions? Explain with an example."
   ]
  },
  {
   "cell_type": "code",
   "execution_count": null,
   "id": "93308154-1b73-4d61-9849-e95c303d2599",
   "metadata": {},
   "outputs": [],
   "source": [
    "In Python, you can handle exceptions using the try and except statements. The try statement lets you test a block of code for errors, and the except statement lets you handle those errors gracefully.\n",
    "\n",
    "Here's an example:"
   ]
  },
  {
   "cell_type": "code",
   "execution_count": 3,
   "id": "0f760b57-b98d-44d3-8aa2-0a41c2d0e3c3",
   "metadata": {},
   "outputs": [
    {
     "name": "stdin",
     "output_type": "stream",
     "text": [
      "enter a number 1\n"
     ]
    },
    {
     "name": "stdout",
     "output_type": "stream",
     "text": [
      "b= 125.0\n"
     ]
    }
   ],
   "source": [
    "try :\n",
    "    a=int(input(\"enter a number\"))\n",
    "    b=125/a\n",
    "    print(\"b=\",b)\n",
    "    \n",
    "except ZeroDivisionError :\n",
    "    print(\"you cannot divide by zero\")\n",
    "    \n",
    "except ValueError :\n",
    "    print(\"you must enter a valid number\")"
   ]
  },
  {
   "cell_type": "code",
   "execution_count": 4,
   "id": "9421a020-b2dd-4832-9e6d-c0885951044a",
   "metadata": {},
   "outputs": [
    {
     "name": "stdin",
     "output_type": "stream",
     "text": [
      "enter a number 0\n"
     ]
    },
    {
     "name": "stdout",
     "output_type": "stream",
     "text": [
      "you cannot divide by zero\n"
     ]
    }
   ],
   "source": [
    "try :\n",
    "    a=int(input(\"enter a number\"))\n",
    "    b=125/a\n",
    "    print(\"b=\",b)\n",
    "    \n",
    "except ZeroDivisionError :\n",
    "    print(\"you cannot divide by zero\")\n",
    "    \n",
    "except ValueError :\n",
    "    print(\"you must enter a valid number\")"
   ]
  },
  {
   "cell_type": "code",
   "execution_count": null,
   "id": "f3967c68-3d18-46cd-b8ec-d48fdd8add82",
   "metadata": {},
   "outputs": [],
   "source": [
    "Question 4 : Explain with an example:\n",
    "Try and else\n",
    "finally\n",
    "raise"
   ]
  },
  {
   "cell_type": "code",
   "execution_count": null,
   "id": "c8fb207e-00ea-4b0f-81fd-cbb37e15e44f",
   "metadata": {},
   "outputs": [],
   "source": [
    "try and else statement:\n",
    "The try and else statement is used to catch and handle exceptions in Python. The try block is used to execute the code that may raise an exception, and the else block is used to execute the code that should be executed if the try block doesn't raise any exception. Here is an example:"
   ]
  },
  {
   "cell_type": "code",
   "execution_count": 5,
   "id": "43f5eea7-6946-4e50-ab84-61ca3e2fe81c",
   "metadata": {},
   "outputs": [
    {
     "name": "stdout",
     "output_type": "stream",
     "text": [
      "the file does not exist\n"
     ]
    }
   ],
   "source": [
    "try :\n",
    "    f=open(\"dfg.txt\",\"r\")\n",
    "    \n",
    "except :\n",
    "    print(\"the file does not exist\")\n",
    "    \n",
    "else :\n",
    "    print(\"the file exist \")"
   ]
  },
  {
   "cell_type": "code",
   "execution_count": 6,
   "id": "862e75fc-ea78-4b65-b14e-188e0a4b3c24",
   "metadata": {},
   "outputs": [
    {
     "name": "stdout",
     "output_type": "stream",
     "text": [
      "the file exist\n"
     ]
    }
   ],
   "source": [
    "try :\n",
    "    f=open(\"dfg.txt\",\"w\")\n",
    "    \n",
    "except :\n",
    "    print(\"the file does not exist\")\n",
    "    \n",
    "else :\n",
    "    print(\"the file exist\")"
   ]
  },
  {
   "cell_type": "code",
   "execution_count": null,
   "id": "6fa234fb-b16e-4b95-9b6a-ea89092ffe41",
   "metadata": {},
   "outputs": [],
   "source": [
    "finally statement:\n",
    "The finally statement is used to define a block of code that should be executed regardless of whether an exception is raised or not. Here is an example:"
   ]
  },
  {
   "cell_type": "code",
   "execution_count": 7,
   "id": "81c57c1b-1313-47af-b610-e7e9c48fa3b0",
   "metadata": {},
   "outputs": [],
   "source": [
    "f=open(\"aqw.txt\",\"w\")\n",
    "f.write(\"data science masters\")\n",
    "f.close()"
   ]
  },
  {
   "cell_type": "code",
   "execution_count": 8,
   "id": "c9ebb040-a314-4e03-93e9-458281e377a5",
   "metadata": {},
   "outputs": [
    {
     "name": "stdout",
     "output_type": "stream",
     "text": [
      "data science masters\n",
      "this finally block is always executed irrespective of anything\n"
     ]
    }
   ],
   "source": [
    "try :\n",
    "    f=open(\"aqw.txt\",\"r\")\n",
    "    a=f.read()\n",
    "    \n",
    "except :\n",
    "    print(\"the file does not exist\")\n",
    "    \n",
    "else :\n",
    "    print(a)\n",
    "    \n",
    "finally :\n",
    "    print(\"this finally block is always executed irrespective of anything\")"
   ]
  },
  {
   "cell_type": "code",
   "execution_count": 9,
   "id": "4384fe1f-12f9-4dd5-995e-c252c66802b3",
   "metadata": {},
   "outputs": [
    {
     "name": "stdout",
     "output_type": "stream",
     "text": [
      "the file does not exist\n",
      "this finally block is always executed irrespective of anything\n"
     ]
    }
   ],
   "source": [
    "try :\n",
    "    f=open(\"aqz.txt\",\"r\")\n",
    "    a=f.read()\n",
    "    \n",
    "except :\n",
    "    print(\"the file does not exist\")\n",
    "    \n",
    "else :\n",
    "    print(a)\n",
    "    \n",
    "finally :\n",
    "    print(\"this finally block is always executed irrespective of anything\")"
   ]
  },
  {
   "cell_type": "code",
   "execution_count": null,
   "id": "469a97fa-9467-4cf8-b341-d1235b92f379",
   "metadata": {},
   "outputs": [],
   "source": [
    "raise statement:\n",
    "The raise statement is used to raise an exception in Python. You can use it to raise a predefined exception, or you can define your own custom exception. Here is an example:"
   ]
  },
  {
   "cell_type": "code",
   "execution_count": 10,
   "id": "3d77fc47-0d70-4b1b-8a3f-577f07d3af04",
   "metadata": {},
   "outputs": [
    {
     "name": "stdin",
     "output_type": "stream",
     "text": [
      "enter a number 1\n",
      "enter a number again 2\n"
     ]
    },
    {
     "name": "stdout",
     "output_type": "stream",
     "text": [
      "0.5\n"
     ]
    }
   ],
   "source": [
    "def func(a,b):\n",
    "    if b==0 :\n",
    "        raise ValueError(\"the second number cannot be zero\")\n",
    "    else :\n",
    "        return a/b\n",
    "    \n",
    "a=int(input(\"enter a number\"))\n",
    "b=int(input(\"enter a number again\"))\n",
    "\n",
    "try :\n",
    "    x=func(a,b)\n",
    "    \n",
    "except :\n",
    "    print(\"the second number cannot be zero\")\n",
    "    \n",
    "else :\n",
    "    print(x)"
   ]
  },
  {
   "cell_type": "code",
   "execution_count": 11,
   "id": "0822461d-a89f-4790-930e-ead819b54994",
   "metadata": {},
   "outputs": [
    {
     "name": "stdin",
     "output_type": "stream",
     "text": [
      "enter a number 25\n",
      "enter a number again 50\n"
     ]
    },
    {
     "name": "stdout",
     "output_type": "stream",
     "text": [
      "0.5\n"
     ]
    }
   ],
   "source": [
    "def func(a,b):\n",
    "    if b==0 :\n",
    "        raise ValueError(\"the second number cannot be zero\")\n",
    "    else :\n",
    "        return a/b\n",
    "    \n",
    "a=int(input(\"enter a number\"))\n",
    "b=int(input(\"enter a number again\"))\n",
    "\n",
    "try :\n",
    "    x=func(a,b)\n",
    "    \n",
    "except :\n",
    "    print(\"the second number cannot be zero\")\n",
    "    \n",
    "else :\n",
    "    print(x)"
   ]
  },
  {
   "cell_type": "code",
   "execution_count": null,
   "id": "f190c593-e112-4e8a-873d-b59471eefb54",
   "metadata": {},
   "outputs": [],
   "source": [
    "Question 5 : What are custom Exceptions in python ? Why do we need Custom Exceptions? Explain with an Example."
   ]
  },
  {
   "cell_type": "code",
   "execution_count": null,
   "id": "6afb3e36-53d7-4aa9-89c3-80f794855a37",
   "metadata": {},
   "outputs": [],
   "source": [
    "In Python, custom exceptions are user-defined exceptions that extend the base Exception class. They allow you to create your own exception types with customized error messages and behaviors.\n",
    "\n",
    "We need custom exceptions in Python to provide more specific and meaningful error messages to the user, especially in larger programs where errors may occur in multiple places. Custom exceptions also make it easier to handle specific errors in different ways.\n",
    "\n",
    "Here's an example of a custom exception in Python:\n",
    "\n"
   ]
  },
  {
   "cell_type": "code",
   "execution_count": 13,
   "id": "36a7fba7-151e-498e-a9c8-0c76825d4fd3",
   "metadata": {},
   "outputs": [
    {
     "name": "stdin",
     "output_type": "stream",
     "text": [
      "enter a number 6\n"
     ]
    },
    {
     "name": "stdout",
     "output_type": "stream",
     "text": [
      "2.449489742783178\n",
      "doesn't matter code is correct or incorrect the finally block is always executed\n"
     ]
    }
   ],
   "source": [
    "class NegativeNumberError(Exception):\n",
    "    pass\n",
    "\n",
    "def func(a):\n",
    "    if a <0 :\n",
    "        raise NegativeNumberError(\"the number cannot be negative\")\n",
    "    return pow(a,0.5)\n",
    "\n",
    "a=int(input(\"enter a number\"))\n",
    "\n",
    "try :\n",
    "    func(a)\n",
    "    \n",
    "except NegativeNumberError as e :\n",
    "    print(e)\n",
    "    \n",
    "else :\n",
    "    print(func(a))\n",
    "    \n",
    "finally :\n",
    "    print(\"doesn't matter code is correct or incorrect the finally block is always executed\")"
   ]
  },
  {
   "cell_type": "code",
   "execution_count": null,
   "id": "d4d8691b-77f5-4e25-ab68-d4a2dda8d4d1",
   "metadata": {},
   "outputs": [],
   "source": [
    "Question 6 : Create a custom exception class . Use this class to handle exception"
   ]
  },
  {
   "cell_type": "code",
   "execution_count": 14,
   "id": "406c5a24-c427-4186-9947-a33a378bced6",
   "metadata": {},
   "outputs": [],
   "source": [
    "class validateage(Exception):\n",
    "    def __init__(self,msg):\n",
    "        self.msg=msg"
   ]
  },
  {
   "cell_type": "code",
   "execution_count": 15,
   "id": "952622f7-953c-4baf-b083-bf4831402ace",
   "metadata": {},
   "outputs": [
    {
     "name": "stdin",
     "output_type": "stream",
     "text": [
      "enter your age  45\n"
     ]
    },
    {
     "name": "stdout",
     "output_type": "stream",
     "text": [
      "age is valid\n",
      "assignment completed\n"
     ]
    }
   ],
   "source": [
    "def validate_age(age):\n",
    "    if age<0 :\n",
    "        raise validateage(\"age cannot be negative\")\n",
    "        \n",
    "    elif age>120 :\n",
    "        raise validateage(\"age is out of range \")\n",
    "        \n",
    "    else :\n",
    "        raise validateage(\"age is valid\")\n",
    "        \n",
    "try :\n",
    "    age=int(input('enter your age '))\n",
    "    validate_age(age)\n",
    "    \n",
    "except validateage as e :\n",
    "    print(e)\n",
    "    \n",
    "else :\n",
    "    print(validate_age(age))\n",
    "    \n",
    "finally :\n",
    "    print(\"assignment completed\")"
   ]
  },
  {
   "cell_type": "code",
   "execution_count": null,
   "id": "67fbf79e-3836-4501-b932-41bc137a6e32",
   "metadata": {},
   "outputs": [],
   "source": []
  }
 ],
 "metadata": {
  "kernelspec": {
   "display_name": "Python 3 (ipykernel)",
   "language": "python",
   "name": "python3"
  },
  "language_info": {
   "codemirror_mode": {
    "name": "ipython",
    "version": 3
   },
   "file_extension": ".py",
   "mimetype": "text/x-python",
   "name": "python",
   "nbconvert_exporter": "python",
   "pygments_lexer": "ipython3",
   "version": "3.10.8"
  }
 },
 "nbformat": 4,
 "nbformat_minor": 5
}
