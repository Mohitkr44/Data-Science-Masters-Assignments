{
 "cells": [
  {
   "cell_type": "code",
   "execution_count": null,
   "id": "eb457401-73ec-4716-a4ef-f60e971198f1",
   "metadata": {},
   "outputs": [],
   "source": [
    "Question 1 : Which function is used to open a file? What are the different modes of opening a file? Explain each mode of file opening."
   ]
  },
  {
   "cell_type": "code",
   "execution_count": null,
   "id": "8824bfd7-e046-45f6-945e-d84807b8cf2d",
   "metadata": {},
   "outputs": [],
   "source": [
    "Files in Python can be opened with a built-in open() function\n",
    "Syntax : open(file_address, access_mode)\n",
    "The different modes of opening a file are:\n",
    "\n",
    "\"r\" (read mode): This mode is used to read data from an existing file. If the file does not exist, a FileNotFoundError is raised.\n",
    "\n",
    "\"w\" (write mode): This mode is used to write data to a file. If the file already exists, its contents are overwritten. If the file does not exist, a new file is created.\n",
    "\n",
    "\"a\" (append mode): This mode is used to append data to an existing file. If the file does not exist, a new file is created.\n",
    "\n",
    "\"x\" (exclusive creation mode): This mode is used to create a new file, but only if it does not already exist. If the file already exists, a FileExistsError is raised.\n",
    "\n",
    "\"b\" (binary mode): This mode is used to read or write binary data, such as images or other non-text files.\n",
    "\n",
    "\"t\" (text mode): This mode is used to read or write text data, which is the default mode if no mode is specified.\n",
    "\n",
    "\"+\" (read and write mode): This mode is used to allow both reading and writing to a file.\n",
    "\n"
   ]
  },
  {
   "cell_type": "code",
   "execution_count": 2,
   "id": "0fdc729b-4102-40f5-bd41-d2e66782976c",
   "metadata": {},
   "outputs": [],
   "source": [
    "file=open(\"test.txt\",\"w\")\n",
    "file.write(\"data science masters\\n\")\n",
    "file.close()"
   ]
  },
  {
   "cell_type": "code",
   "execution_count": 3,
   "id": "a4e299fb-f93f-4a41-b2a2-9aec44e77573",
   "metadata": {},
   "outputs": [
    {
     "name": "stdout",
     "output_type": "stream",
     "text": [
      "data science masters\n",
      "\n"
     ]
    }
   ],
   "source": [
    "file=open(\"test.txt\",\"r\")\n",
    "a=file.read()\n",
    "print(a)"
   ]
  },
  {
   "cell_type": "code",
   "execution_count": 4,
   "id": "a78fa2ea-533b-409f-a915-21c88ba79cba",
   "metadata": {},
   "outputs": [
    {
     "name": "stdout",
     "output_type": "stream",
     "text": [
      "data science masters\n",
      "web dev\n",
      "\n"
     ]
    }
   ],
   "source": [
    "file=open(\"test.txt\",\"a\")\n",
    "file.write(\"web dev\\n\")\n",
    "file.close()\n",
    "file=open(\"test.txt\",\"r\")\n",
    "x=file.read()\n",
    "print(x)"
   ]
  },
  {
   "cell_type": "code",
   "execution_count": null,
   "id": "290c9fbc-a58c-4db9-b15d-43314321da0b",
   "metadata": {},
   "outputs": [],
   "source": [
    "Question 2: Why close() function is used? Why is it important to close a file?"
   ]
  },
  {
   "cell_type": "code",
   "execution_count": null,
   "id": "9c2fff4d-6a81-44c7-9474-7b70f3681880",
   "metadata": {},
   "outputs": [],
   "source": [
    "In Python, the close() function is used to close an open file object. It's important to close a file after you have finished working with it because it frees up system resources that were being used by the open file."
   ]
  },
  {
   "cell_type": "code",
   "execution_count": 5,
   "id": "87e0f5c7-a3d4-4b0d-ac76-70d08ff6baf0",
   "metadata": {},
   "outputs": [
    {
     "name": "stdout",
     "output_type": "stream",
     "text": [
      "data science masters\n",
      "web dev\n",
      "\n"
     ]
    }
   ],
   "source": [
    "# method 1 \n",
    "\n",
    "file=open(\"test.txt\",\"r\")\n",
    "a=file.read()\n",
    "print(a)\n",
    "file.close()"
   ]
  },
  {
   "cell_type": "code",
   "execution_count": 6,
   "id": "50f8d98c-ed31-4d9d-94b6-99c0bd304ece",
   "metadata": {},
   "outputs": [
    {
     "name": "stdout",
     "output_type": "stream",
     "text": [
      "hello world\n",
      "\n"
     ]
    }
   ],
   "source": [
    "# method 2 \n",
    "\n",
    "with open(\"test.txt\",\"w+\") as f :\n",
    "    f.write(\"hello world\\n\")\n",
    "    \n",
    "    \n",
    "with open(\"test.txt\",\"r\") as f :\n",
    "    print(f.read())"
   ]
  },
  {
   "cell_type": "code",
   "execution_count": null,
   "id": "e8126a38-8edc-462f-b40e-5434f25b5b43",
   "metadata": {},
   "outputs": [],
   "source": [
    "Question 3: Write a python program to create a text file. Write ‘I want to become a Data Scientist’ in that file. Then close the file. Open this file and read the content of the file."
   ]
  },
  {
   "cell_type": "code",
   "execution_count": 7,
   "id": "c9912cf5-88f2-41cd-b672-feb323d57e34",
   "metadata": {},
   "outputs": [
    {
     "name": "stdout",
     "output_type": "stream",
     "text": [
      "I want to become a Data Scientist\n"
     ]
    }
   ],
   "source": [
    "# method 1 \n",
    "\n",
    "\n",
    "file =open(\"test1.txt\",\"w\")\n",
    "file.write(\"I want to become a Data Scientist\")\n",
    "file.close()\n",
    "\n",
    "\n",
    "file=open(\"test1.txt\",\"r\")\n",
    "a=file.read()\n",
    "print(a)"
   ]
  },
  {
   "cell_type": "code",
   "execution_count": 8,
   "id": "43651a51-a3b9-4951-a5b2-1132ee47febb",
   "metadata": {},
   "outputs": [
    {
     "name": "stdout",
     "output_type": "stream",
     "text": [
      "I want to become a Data Scientist\n"
     ]
    }
   ],
   "source": [
    "# method 2\n",
    "\n",
    "with open(\"test2.txt\",\"w\") as f :\n",
    "    f.write(\"I want to become a Data Scientist\")\n",
    "    \n",
    "with open(\"test2.txt\",\"r\") as f :\n",
    "    print(f.read())"
   ]
  },
  {
   "cell_type": "code",
   "execution_count": null,
   "id": "891bc0f5-296d-4734-91b4-efe566502c69",
   "metadata": {},
   "outputs": [],
   "source": [
    "Question 5 : Explain why with statement is used with open(). What is the advantage of using with statement and open() together"
   ]
  },
  {
   "cell_type": "code",
   "execution_count": null,
   "id": "84ba4b03-b216-4148-b82d-dbf37b676e0e",
   "metadata": {},
   "outputs": [],
   "source": [
    "The with statement is used along with the open() function to ensure that a file is closed after its operations are done. The advantage of using the with statement with the open() function is that it provides a clean and easy-to-use syntax to open and close files automatically, without the need to manually close them.\n",
    "\n",
    "When you use the with statement, Python takes care of closing the file after the block of code inside the with statement completes, even if there is an exception or error during the execution of the block. This is useful because it ensures that the file is properly closed and any resources used by the file are released, preventing potential issues like data loss, corrupted files, or performance problems."
   ]
  },
  {
   "cell_type": "code",
   "execution_count": 11,
   "id": "976b3fe3-7997-4610-b185-d25fa9482678",
   "metadata": {},
   "outputs": [
    {
     "name": "stdout",
     "output_type": "stream",
     "text": [
      "I want to become a Data Scientist\n"
     ]
    }
   ],
   "source": [
    "# for example :-\n",
    "\n",
    "with open(\"test1.txt\",\"r\") as f :\n",
    "    var=f.read()\n",
    "    print(var)"
   ]
  },
  {
   "cell_type": "code",
   "execution_count": null,
   "id": "4025f648-20ad-4d3b-8a5a-d03fdca8c22f",
   "metadata": {},
   "outputs": [],
   "source": [
    "We use the with statement to open a file named test1.txt' in read mode, and we read the content of the file into a variable named content. After the block of code inside the with statement completes, Python automatically closes the file, freeing any resources used by the file.\n",
    "\n",
    "Using the with statement with the open() function provides a more readable and efficient way of working with files, as it reduces the chance of introducing bugs related to forgetting to close files, and it ensures that resources are properly managed."
   ]
  },
  {
   "cell_type": "code",
   "execution_count": null,
   "id": "c1095674-2a2f-4718-b689-61558b399b5d",
   "metadata": {},
   "outputs": [],
   "source": [
    "Question 6: Explain the write() and writelines() functions. Give a suitable example"
   ]
  },
  {
   "cell_type": "code",
   "execution_count": null,
   "id": "9d8a2319-a9e0-4e81-9432-25c4a2000334",
   "metadata": {},
   "outputs": [],
   "source": [
    "The write() function will write the content in the file without adding any extra characters.\n",
    "While writing data to a file, we must know that the write function does not add a newline character(\\n) to the end of the string.\n",
    "The write() function returns None."
   ]
  },
  {
   "cell_type": "code",
   "execution_count": 12,
   "id": "9bb718a3-78a5-443d-813d-5d22dd9f558a",
   "metadata": {},
   "outputs": [
    {
     "name": "stdout",
     "output_type": "stream",
     "text": [
      "pwskills\n"
     ]
    }
   ],
   "source": [
    "with open(\"exam.txt\",\"w\") as f :\n",
    "    f.write(\"pwskills\")\n",
    "    \n",
    "with open(\"exam.txt\",\"r\") as f :\n",
    "    print(f.read())"
   ]
  },
  {
   "cell_type": "code",
   "execution_count": null,
   "id": "56a76690-1743-44fc-b8b8-ce1cf83d8798",
   "metadata": {},
   "outputs": [],
   "source": [
    "writelines(): This function writes the content of a list to a file.\n",
    "the list of strings that is passed to the writelines() function is written into the opened file.\n",
    "Similar to the write() function, the writelines() function does not add a newline character(\\n) to the end of the string"
   ]
  },
  {
   "cell_type": "code",
   "execution_count": 13,
   "id": "10fcaf8d-cd23-4369-b37c-a9141549ecf0",
   "metadata": {},
   "outputs": [
    {
     "name": "stdout",
     "output_type": "stream",
     "text": [
      "data science masters \n",
      "web dev \n",
      "java with dsa \n"
     ]
    }
   ],
   "source": [
    "with open(\"exam1.txt\",\"w\") as f :\n",
    "    f.writelines([\"data science masters \\n\",\"web dev \\n\",\"java with dsa \"])\n",
    "    \n",
    "with open(\"exam1.txt\",\"r\") as f :\n",
    "    print(f.read())"
   ]
  },
  {
   "cell_type": "code",
   "execution_count": null,
   "id": "d21e23c2-5c9f-436b-9120-c81e5ce64ebd",
   "metadata": {},
   "outputs": [],
   "source": []
  }
 ],
 "metadata": {
  "kernelspec": {
   "display_name": "Python 3 (ipykernel)",
   "language": "python",
   "name": "python3"
  },
  "language_info": {
   "codemirror_mode": {
    "name": "ipython",
    "version": 3
   },
   "file_extension": ".py",
   "mimetype": "text/x-python",
   "name": "python",
   "nbconvert_exporter": "python",
   "pygments_lexer": "ipython3",
   "version": "3.10.8"
  }
 },
 "nbformat": 4,
 "nbformat_minor": 5
}
