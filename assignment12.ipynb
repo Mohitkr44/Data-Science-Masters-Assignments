{
 "cells": [
  {
   "cell_type": "code",
   "execution_count": null,
   "id": "87c8d419-6703-4c2f-b47a-e31c2c46e131",
   "metadata": {},
   "outputs": [],
   "source": [
    "Question 1: What is Multi Threading in Python? Why it is used? Name the module used to handle threads in python."
   ]
  },
  {
   "cell_type": "code",
   "execution_count": null,
   "id": "1b65fa8b-a2fa-4db4-8669-a4a758a8cd30",
   "metadata": {},
   "outputs": [],
   "source": [
    "Multithreading in Python is a programming technique that allows a program to perform multiple tasks simultaneously within a single process. It involves creating multiple threads of execution within a single program, with each thread running concurrently and independently.\n",
    "\n",
    "Multithreading is used in Python to improve the performance of programs by allowing them to execute multiple tasks simultaneously, thereby reducing the time taken to execute the program."
   ]
  },
  {
   "cell_type": "code",
   "execution_count": null,
   "id": "c92a0809-6e00-41a6-bd59-0fe8cb6839c6",
   "metadata": {},
   "outputs": [],
   "source": [
    "Question 2: Why Threading Module is used ? Write the use of following functions\n",
    "activeCount()\n",
    "currentThread()\n",
    "enumerate"
   ]
  },
  {
   "cell_type": "code",
   "execution_count": null,
   "id": "3c6b4f72-853b-48a7-a095-9e9f0d3902d3",
   "metadata": {},
   "outputs": [],
   "source": [
    "The threading module in Python is used to create, manage, and work with threads in Python programs. It provides a high-level interface to manage threads and allows developers to create multi-threaded applications with ease. The module provides several functions that help developers manage threads effectively.\n",
    "\n",
    "Here's the use of the following functions:\n",
    "\n",
    "activeCount(): This function is used to return the number of currently active threads in the program. It can be useful in determining whether all the threads in the program have completed execution, or to keep track of the number of threads currently running.\n",
    "\n",
    "currentThread(): This function is used to return a reference to the currently executing thread. It can be used to access the properties of the thread, such as its name or thread ID, and to perform operations such as pausing or resuming the thread.\n",
    "\n",
    "enumerate(): This function is used to return a list of all currently active threads in the program. It can be useful in debugging multi-threaded programs, as it allows developers to inspect the properties of all threads and to determine which threads are currently running or blocked. The returned list contains Thread objects for each active thread, which can be used to perform operations such as pausing or resuming the thread."
   ]
  },
  {
   "cell_type": "code",
   "execution_count": null,
   "id": "ecff72f4-28db-420f-9aaf-dea796b41329",
   "metadata": {},
   "outputs": [],
   "source": [
    "Question 3: Explain the following functions:\n",
    "run()\n",
    "start()\n",
    "join()\n",
    "isAlive()"
   ]
  },
  {
   "cell_type": "code",
   "execution_count": null,
   "id": "2a08f6c2-d5c3-41c4-ad26-4a8e05b156ef",
   "metadata": {},
   "outputs": [],
   "source": [
    "The threading module in Python provides several functions that allow developers to manage and control threads in Python programs. Here's an explanation of the following functions:\n",
    "\n",
    "run(): This method is called when a thread is started using the start() method. It contains the code that will be executed by the thread when it starts running. The run() method should be overridden by a subclass of the Thread class to define the behavior of the thread.\n",
    "\n",
    "start(): This method is used to start a thread. When the start() method is called, a new thread of execution is created, and the run() method of the thread is called in that new thread. It is important to note that the start() method does not block the main thread; it returns immediately, allowing the main thread to continue executing while the new thread runs concurrently.\n",
    "\n",
    "join(): This method is used to wait for a thread to complete execution. When the join() method is called on a thread, the calling thread blocks until the target thread completes execution. This can be useful in situations where one thread needs to wait for another thread to finish its work before proceeding.\n",
    "\n",
    "isAlive(): This method is used to determine whether a thread is currently executing. When called on a thread object, it returns True if the thread is currently running or False otherwise. This can be useful in situations where one thread needs to check whether another thread is still executing before performing some operation."
   ]
  },
  {
   "cell_type": "code",
   "execution_count": 1,
   "id": "6d64d5c2-2cc2-43e9-a7a2-df16aca4f7e4",
   "metadata": {},
   "outputs": [],
   "source": [
    "import threading "
   ]
  },
  {
   "cell_type": "code",
   "execution_count": 2,
   "id": "a7b92f10-aeab-453e-8e76-ffe786795763",
   "metadata": {},
   "outputs": [],
   "source": [
    "def function(x):\n",
    "    print(x ,end=\" \")"
   ]
  },
  {
   "cell_type": "code",
   "execution_count": 3,
   "id": "0321d248-8c37-4a2f-9d2c-f31a0797d8e9",
   "metadata": {},
   "outputs": [],
   "source": [
    "thread1=[threading.Thread(target=function , args=(pow(z,2),)) for z in range(11)]\n",
    "thread2=[threading.Thread(target=function , args=(pow(z,3),)) for z in range(21)]"
   ]
  },
  {
   "cell_type": "code",
   "execution_count": 4,
   "id": "9d725b6d-a8ed-4cc3-969c-4b1b636051a0",
   "metadata": {},
   "outputs": [
    {
     "data": {
      "text/plain": [
       "[<Thread(Thread-5 (function), initial)>,\n",
       " <Thread(Thread-6 (function), initial)>,\n",
       " <Thread(Thread-7 (function), initial)>,\n",
       " <Thread(Thread-8 (function), initial)>,\n",
       " <Thread(Thread-9 (function), initial)>,\n",
       " <Thread(Thread-10 (function), initial)>,\n",
       " <Thread(Thread-11 (function), initial)>,\n",
       " <Thread(Thread-12 (function), initial)>,\n",
       " <Thread(Thread-13 (function), initial)>,\n",
       " <Thread(Thread-14 (function), initial)>,\n",
       " <Thread(Thread-15 (function), initial)>]"
      ]
     },
     "execution_count": 4,
     "metadata": {},
     "output_type": "execute_result"
    }
   ],
   "source": [
    "thread1"
   ]
  },
  {
   "cell_type": "code",
   "execution_count": 5,
   "id": "fe4c63ac-748c-435b-93f5-72307e099ed7",
   "metadata": {},
   "outputs": [
    {
     "data": {
      "text/plain": [
       "[<Thread(Thread-16 (function), initial)>,\n",
       " <Thread(Thread-17 (function), initial)>,\n",
       " <Thread(Thread-18 (function), initial)>,\n",
       " <Thread(Thread-19 (function), initial)>,\n",
       " <Thread(Thread-20 (function), initial)>,\n",
       " <Thread(Thread-21 (function), initial)>,\n",
       " <Thread(Thread-22 (function), initial)>,\n",
       " <Thread(Thread-23 (function), initial)>,\n",
       " <Thread(Thread-24 (function), initial)>,\n",
       " <Thread(Thread-25 (function), initial)>,\n",
       " <Thread(Thread-26 (function), initial)>,\n",
       " <Thread(Thread-27 (function), initial)>,\n",
       " <Thread(Thread-28 (function), initial)>,\n",
       " <Thread(Thread-29 (function), initial)>,\n",
       " <Thread(Thread-30 (function), initial)>,\n",
       " <Thread(Thread-31 (function), initial)>,\n",
       " <Thread(Thread-32 (function), initial)>,\n",
       " <Thread(Thread-33 (function), initial)>,\n",
       " <Thread(Thread-34 (function), initial)>,\n",
       " <Thread(Thread-35 (function), initial)>,\n",
       " <Thread(Thread-36 (function), initial)>]"
      ]
     },
     "execution_count": 5,
     "metadata": {},
     "output_type": "execute_result"
    }
   ],
   "source": [
    "thread2\n"
   ]
  },
  {
   "cell_type": "code",
   "execution_count": 6,
   "id": "1c446815-3675-4bdd-acee-7313089f7fd2",
   "metadata": {},
   "outputs": [
    {
     "name": "stdout",
     "output_type": "stream",
     "text": [
      "0 1 4 9 16 25 36 49 64 81 100 "
     ]
    }
   ],
   "source": [
    "for k in thread1 :\n",
    "    k.start()"
   ]
  },
  {
   "cell_type": "code",
   "execution_count": 7,
   "id": "5191ff45-c815-41ae-82b2-e22f0f50d9cd",
   "metadata": {},
   "outputs": [
    {
     "name": "stdout",
     "output_type": "stream",
     "text": [
      "0 1 8 27 64 125 216 343 512 729 1000 1331 1728 2197 2744 3375 4096 4913 5832 6859 8000 "
     ]
    }
   ],
   "source": [
    "for k in thread2 :\n",
    "    k.start()\n"
   ]
  },
  {
   "cell_type": "code",
   "execution_count": null,
   "id": "e5a4a65b-2658-4f31-8123-93e3ecfe1c40",
   "metadata": {},
   "outputs": [],
   "source": [
    "Question 5: State advantages and disadvantages of Multithreading."
   ]
  },
  {
   "cell_type": "code",
   "execution_count": null,
   "id": "1397b3c5-fc15-46b3-9795-b536ed010fe0",
   "metadata": {},
   "outputs": [],
   "source": [
    "Multithreading is a programming technique that allows multiple threads of execution to run concurrently within a single process. Here are some advantages and disadvantages of using multithreading:\n",
    "\n",
    "Advantages:\n",
    "\n",
    "Improved performance: Multithreading can improve the performance of a program by allowing it to take advantage of multiple CPUs or cores. By dividing a task into multiple threads, a program can execute multiple tasks simultaneously, reducing overall execution time.\n",
    "\n",
    "Resource sharing: Multithreading allows multiple threads to share the same resources, such as memory and I/O devices. This can reduce the amount of memory required by a program and allow it to more efficiently use system resources.\n",
    "\n",
    "Responsiveness: Multithreading can improve the responsiveness of a program by allowing it to continue executing while waiting for I/O operations or other time-consuming tasks.\n",
    "\n",
    "Simplified program design: Multithreading can simplify the design of a program by allowing it to be divided into smaller, more manageable parts. This can make it easier to write, test, and debug the program.\n",
    "\n",
    "Disadvantages:\n",
    "\n",
    "Increased complexity: Multithreaded programs are generally more complex than single-threaded programs, and can be more difficult to write, test, and debug.\n",
    "\n",
    "Synchronization issues: Multithreading requires careful synchronization of data and resources between threads to avoid issues such as race conditions, deadlocks, and other concurrency-related bugs.\n",
    "\n",
    "Overhead: Multithreading adds overhead to a program, both in terms of memory usage and processing time. The overhead of creating and managing threads can sometimes outweigh the benefits of multithreading.\n",
    "\n",
    "Debugging difficulties: Debugging multithreaded programs can be difficult due to the non-deterministic nature of thread execution. Bugs may only appear under certain thread scheduling conditions, making them difficult to reproduce and diagnose."
   ]
  },
  {
   "cell_type": "code",
   "execution_count": null,
   "id": "7eb728c0-d1b0-4fb0-9fb5-ac9b11705120",
   "metadata": {},
   "outputs": [],
   "source": [
    "Question 6: Explain deadlocks and race conditions."
   ]
  },
  {
   "cell_type": "code",
   "execution_count": null,
   "id": "dab629e9-779b-4310-ad42-f7609f7af243",
   "metadata": {},
   "outputs": [],
   "source": [
    "Deadlock and race condition are two common types of concurrency-related bugs that can occur in multithreaded programs.\n",
    "\n",
    "Deadlock: A deadlock occurs when two or more threads are blocked, waiting for each other to release resources they need to continue execution. This results in a situation where no thread can make progress and the program appears to hang. Deadlocks can occur when threads compete for exclusive access to resources, such as shared memory or a network socket.\n",
    "\n",
    "Race condition: A race condition occurs when the behavior of a program depends on the order or timing of thread execution. Specifically, it occurs when two or more threads access a shared resource in an unpredictable order, resulting in unexpected behavior. For example, if two threads both try to write to the same variable at the same time, the final value of the variable will depend on the order in which the writes occur.\n",
    "\n",
    "Both deadlocks and race conditions can be difficult to detect and diagnose, as they may only occur under certain conditions or with certain inputs. Debugging these types of bugs often requires careful analysis of thread scheduling and resource usage, as well as extensive testing and verification of the program's behavior. Proper use of synchronization primitives such as locks, semaphores, and barriers can help prevent these bugs from occurring in the first place."
   ]
  }
 ],
 "metadata": {
  "kernelspec": {
   "display_name": "Python 3 (ipykernel)",
   "language": "python",
   "name": "python3"
  },
  "language_info": {
   "codemirror_mode": {
    "name": "ipython",
    "version": 3
   },
   "file_extension": ".py",
   "mimetype": "text/x-python",
   "name": "python",
   "nbconvert_exporter": "python",
   "pygments_lexer": "ipython3",
   "version": "3.10.8"
  }
 },
 "nbformat": 4,
 "nbformat_minor": 5
}
