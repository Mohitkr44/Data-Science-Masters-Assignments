{
 "cells": [
  {
   "cell_type": "code",
   "execution_count": null,
   "id": "8493d130-5e9d-4eb3-94e4-af1f9ba0e789",
   "metadata": {},
   "outputs": [],
   "source": [
    "Question 1: Explain Class and Object with respect to Object-Oriented Programming. Give a suitable example."
   ]
  },
  {
   "cell_type": "code",
   "execution_count": null,
   "id": "731c02e0-37cf-4662-81f7-9b233ced4db4",
   "metadata": {},
   "outputs": [],
   "source": [
    "Class is a blueprint or a template for creating objects (instances of a class). It defines a set of attributes (properties) and behaviors (methods) that are common to all objects of that class. In object-oriented programming, a class encapsulates the data and the functions that operate on that data.\n",
    "\n",
    "An Object, on the other hand, is an instance of a class. It represents a specific entity with its own property values and methods. Objects are instances of classes, created at runtime.\n",
    "\n",
    "For example :-"
   ]
  },
  {
   "cell_type": "code",
   "execution_count": 1,
   "id": "67534350-4e8b-4837-8a7c-154657635267",
   "metadata": {},
   "outputs": [
    {
     "data": {
      "text/plain": [
       "(9189181918, 'a@gmail.com', 213)"
      ]
     },
     "execution_count": 1,
     "metadata": {},
     "output_type": "execute_result"
    }
   ],
   "source": [
    "# Here pwskills is class \n",
    "\n",
    "\n",
    "class pwskills :\n",
    "    def __init__(self,phone_number , email_id , student_id):\n",
    "        self.phone_number=phone_number \n",
    "        self.email_id=email_id\n",
    "        self.student_id=student_id\n",
    "        \n",
    "    def student_details(self):\n",
    "        return self.phone_number,self.email_id,self.student_id\n",
    "    \n",
    "a=pwskills(9189181918,\"a@gmail.com\",213)\n",
    "a.student_details()\n",
    "\n",
    "# And a is object"
   ]
  },
  {
   "cell_type": "code",
   "execution_count": null,
   "id": "3debe91d-008d-442c-a84f-b807c7d5a2f0",
   "metadata": {},
   "outputs": [],
   "source": [
    "Question 2: Name the four pillars of OOPs."
   ]
  },
  {
   "cell_type": "code",
   "execution_count": null,
   "id": "227be262-49c5-4756-baaf-88fc9570e468",
   "metadata": {},
   "outputs": [],
   "source": [
    "Abstraction: This refers to the process of hiding the implementation details of an object and exposing only the necessary information to the users.\n",
    "\n",
    "Encapsulation: This refers to the wrapping of data (properties) and functions (methods) into a single unit or object. It ensures that the internal representation of an object is hidden from the outside world and can only be accessed through a well-defined interface.\n",
    "\n",
    "Inheritance: This refers to the ability of a new class to inherit the properties and behaviors of an existing class. The new class is called a subclass or derived class, and the existing class is called a superclass or base class.\n",
    "\n",
    "Polymorphism: This refers to the ability of objects to take on multiple forms. In OOP, polymorphism is achieved through method overriding and method overloading. It allows objects of different classes to be treated as objects of the same class, enabling code reusability and making the code more flexible and easier to maintain."
   ]
  },
  {
   "cell_type": "code",
   "execution_count": null,
   "id": "fc5dcfea-a727-4024-8027-14878c517364",
   "metadata": {},
   "outputs": [],
   "source": [
    "Question 3 : Explain why the __init__() function is used. Give a suitable example."
   ]
  },
  {
   "cell_type": "code",
   "execution_count": null,
   "id": "c83201b9-f652-4bac-a031-0bf06f828126",
   "metadata": {},
   "outputs": [],
   "source": [
    "The init() function is a special method in Python classes, also known as the constructor method. It is automatically called when an object of the class is created. The primary purpose of the init() function is to initialize the object's attributes or properties with the values passed as arguments when the object is created."
   ]
  },
  {
   "cell_type": "code",
   "execution_count": 2,
   "id": "55470269-743e-400d-8aeb-d43372e7f043",
   "metadata": {},
   "outputs": [
    {
     "data": {
      "text/plain": [
       "('apple', 99000, '64gb')"
      ]
     },
     "execution_count": 2,
     "metadata": {},
     "output_type": "execute_result"
    }
   ],
   "source": [
    "class laptop :\n",
    "    def __init__(self,brand,price,storage):\n",
    "        self.brand=brand\n",
    "        self.price=price\n",
    "        self.storage=storage\n",
    "        \n",
    "    def laptop_details(self):\n",
    "        return self.brand , self.price , self.storage \n",
    "\n",
    "    \n",
    "    \n",
    "p1=laptop(\"apple\",99000,\"64gb\")\n",
    "    \n",
    "p1.laptop_details()\n"
   ]
  },
  {
   "cell_type": "code",
   "execution_count": null,
   "id": "1d98b9a7-6429-4b9e-8c68-83057d110884",
   "metadata": {},
   "outputs": [],
   "source": [
    "Question 4: Why self is used in OOPs?"
   ]
  },
  {
   "cell_type": "code",
   "execution_count": null,
   "id": "e83d82d3-9069-4882-802c-1a5be9664bda",
   "metadata": {},
   "outputs": [],
   "source": [
    "self represents the instance of the class. By using the “self” we can access the attributes and methods of the class in python. It binds the attributes with the given arguments.\n",
    "\n",
    "The reason we need to use self. is because Python does not use the @ syntax to refer to instance attributes. Python decided to do methods in a way that makes the instance to which the method belongs be passed automatically, but not received automatically: the first parameter of methods is the instance the method is called on.\n",
    "\n",
    "In more clear way you can say that self has following Characteristic-\n",
    "\n",
    "self is always pointing to Current Object.\n",
    "self is the first argument to be passed in Constructor and Instance Method.\n",
    "self must be provided as a First parameter to the Instance method and constructor. If you don’t provide it, it will cause an error.\n",
    "self is a convention and not a Python keyword.\n",
    "self is parameter in Instance Method and user can use another parameter name in place of it. But it is advisable to use self because it increases the readability of code, and it is also a good programming practice.\n",
    "For example :-"
   ]
  },
  {
   "cell_type": "code",
   "execution_count": 3,
   "id": "437f38cc-8591-4c98-a77b-63e5b62a3673",
   "metadata": {},
   "outputs": [
    {
     "data": {
      "text/plain": [
       "('samsung', 22000, '48mp')"
      ]
     },
     "execution_count": 3,
     "metadata": {},
     "output_type": "execute_result"
    }
   ],
   "source": [
    "class mobile_phones :\n",
    "    def __init__(self,brand,price,camera):\n",
    "        self.brand=brand\n",
    "        self.price=price\n",
    "        self.camera=camera\n",
    "        \n",
    "    def mobile_details(self):\n",
    "        return self.brand , self.price , self.camera\n",
    "    \n",
    "a=mobile_phones(\"samsung\",22000,\"48mp\")\n",
    "a.mobile_details()"
   ]
  },
  {
   "cell_type": "code",
   "execution_count": null,
   "id": "594b704d-79dc-43fe-921d-fca0c45773c7",
   "metadata": {},
   "outputs": [],
   "source": [
    "Question 5 : What is inheritance? Give an example for each type of inheritance."
   ]
  },
  {
   "cell_type": "code",
   "execution_count": null,
   "id": "03432240-9e4b-425a-aa1b-c031f4681a4e",
   "metadata": {},
   "outputs": [],
   "source": [
    "Inheritance is a mechanism in object-oriented programming (OOP) that allows a new class to be created based on an existing class."
   ]
  },
  {
   "cell_type": "code",
   "execution_count": 4,
   "id": "0e5863af-5d04-468a-8b71-57ff5c96755b",
   "metadata": {},
   "outputs": [
    {
     "name": "stdout",
     "output_type": "stream",
     "text": [
      "Amazon is an Online Ecommerce Store\n",
      "Ebay is an Online Store\n",
      "OLX is an Online Buy Sell Store\n"
     ]
    }
   ],
   "source": [
    "### 1. Single Inheritance : When child class is derived from only one parent class. This is called single inheritance\n",
    "\n",
    "# Single Inheritance Example\n",
    "class Brands:               #parent_class\n",
    "    brand_name_1 = \"Amazon\"\n",
    "    brand_name_2 = \"Ebay\"\n",
    "    brand_name_3 = \"OLX\"\n",
    "    \n",
    "class Products(Brands):       #child_class\n",
    "    prod_1 = \"Online Ecommerce Store\"\n",
    "    prod_2 = \"Online Store\"\n",
    "    prod_3 = \"Online Buy Sell Store\"\n",
    "    \n",
    "obj_1 = Products()          #Object_creation\n",
    "print(obj_1.brand_name_1+\" is an \"+obj_1.prod_1)\n",
    "print(obj_1.brand_name_2+\" is an \"+obj_1.prod_2)\n",
    "print(obj_1.brand_name_3+\" is an \"+obj_1.prod_3)"
   ]
  },
  {
   "cell_type": "code",
   "execution_count": null,
   "id": "10833633-d45e-445b-ad4f-5ff5f7a0146a",
   "metadata": {},
   "outputs": [],
   "source": []
  }
 ],
 "metadata": {
  "kernelspec": {
   "display_name": "Python 3 (ipykernel)",
   "language": "python",
   "name": "python3"
  },
  "language_info": {
   "codemirror_mode": {
    "name": "ipython",
    "version": 3
   },
   "file_extension": ".py",
   "mimetype": "text/x-python",
   "name": "python",
   "nbconvert_exporter": "python",
   "pygments_lexer": "ipython3",
   "version": "3.10.8"
  }
 },
 "nbformat": 4,
 "nbformat_minor": 5
}
