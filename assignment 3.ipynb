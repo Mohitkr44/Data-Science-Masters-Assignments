{
 "cells": [
  {
   "cell_type": "code",
   "execution_count": null,
   "id": "30a06e6d-59f4-49b8-9f96-8367d180aed5",
   "metadata": {},
   "outputs": [],
   "source": [
    "Question 1 : Which keyword is used to create a function? Create a function to return a list of odd numbers in the range of 1 to 25."
   ]
  },
  {
   "cell_type": "code",
   "execution_count": null,
   "id": "8dd89605-f540-4bb9-a7d8-2a3ee95c5c17",
   "metadata": {},
   "outputs": [],
   "source": [
    "'def' keyword is used to create funtion"
   ]
  },
  {
   "cell_type": "code",
   "execution_count": 1,
   "id": "4fa6ebc2-bf83-4a82-aa5a-ed3ec4ac6ac9",
   "metadata": {},
   "outputs": [
    {
     "data": {
      "text/plain": [
       "[1, 3, 5, 7, 9, 11, 13, 15, 17, 19, 21, 23, 25]"
      ]
     },
     "execution_count": 1,
     "metadata": {},
     "output_type": "execute_result"
    }
   ],
   "source": [
    "def test():\n",
    "    l=[]\n",
    "    for x in range(1,26) : \n",
    "        if x%2!=0 :\n",
    "            l.append(x)\n",
    "    return l \n",
    "\n",
    "test()"
   ]
  },
  {
   "cell_type": "code",
   "execution_count": null,
   "id": "5e7e1b4b-f0bc-4ffe-87ea-2185892c7d18",
   "metadata": {},
   "outputs": [],
   "source": [
    "Q2. Why *args and **kwargs is used in some functions? Create a function each for *args and **kwargs to demonstrate their use.\n"
   ]
  },
  {
   "cell_type": "code",
   "execution_count": null,
   "id": "68432068-6efc-478b-b216-85cc3ac30e3a",
   "metadata": {},
   "outputs": [],
   "source": [
    "Ans. *args and **kwargs are used in functions to pass a variable number of arguments to the function.\n",
    "\n",
    "*args is used to send a non-keyworded variable length argument list to the function. It allows the function to receive a dynamic number of non-keyword arguments, and these arguments are packed into a tuple.\n",
    "\n",
    "**kwargs allows a keyworded, variable-length argument list. It passes keyworded variable length of arguments to a function. The arguments are passed in the form of key-value pairs and packed into a dictionary.\n"
   ]
  },
  {
   "cell_type": "code",
   "execution_count": 2,
   "id": "cb45f367-eed6-49cb-959d-f499da95dfa0",
   "metadata": {},
   "outputs": [
    {
     "data": {
      "text/plain": [
       "(1, 2, 3, 4, 5, 6, (12, 3, 2), [123, 879, 34], {'name': 'python'})"
      ]
     },
     "execution_count": 2,
     "metadata": {},
     "output_type": "execute_result"
    }
   ],
   "source": [
    "#For example :-\n",
    "\n",
    "# *args \n",
    "\n",
    "def test(*args):\n",
    "    return args \n",
    "\n",
    "test(1,2,3,4,5,6,(12,3,2),[123,879,34],{\"name\":\"python\"})\n"
   ]
  },
  {
   "cell_type": "code",
   "execution_count": 3,
   "id": "ccc48c77-4c84-4c8f-a21d-4aae5d5739b7",
   "metadata": {},
   "outputs": [
    {
     "data": {
      "text/plain": [
       "{'a': 121, 'b': 'water', 'c': 'pwskills', 'd': 132.56}"
      ]
     },
     "execution_count": 3,
     "metadata": {},
     "output_type": "execute_result"
    }
   ],
   "source": [
    "# **kwargs\n",
    "\n",
    "def test1(**kwargs):\n",
    "    return kwargs\n",
    "\n",
    "test1(a=121,b=\"water\",c=\"pwskills\",d=132.56)"
   ]
  },
  {
   "cell_type": "code",
   "execution_count": null,
   "id": "42e5187e-59df-4b97-b252-63214ee7958b",
   "metadata": {},
   "outputs": [],
   "source": [
    "Question 3: What is an iterator in python? Name the method used to initialise the iterator object and the method used for iteration. Use these methods to print the first five elements of the given list [2, 4, 6, 8, 10, 12, 14, 16, 18, 20]."
   ]
  },
  {
   "cell_type": "code",
   "execution_count": null,
   "id": "33703fbf-83bb-4ddc-b65e-b7b46b062552",
   "metadata": {},
   "outputs": [],
   "source": [
    "An iterator is an object in Python that can be iterated (looped) upon, meaning you can traverse through all the values. In Python, an iterator is an object that implements the iterator protocol, which consists of the methods iter() and next().\n",
    "\n",
    "To initialize an iterator object in Python, you need to call the iter() function on an iterable object (e.g. list, tuple, dictionary, etc.). The iter() function returns an iterator object.\n",
    "\n",
    "To iterate over the elements of an iterator object in Python, you need to call the next() function on the iterator object. The next() function returns the next element in the iterator. When there are no more elements in the iterator, the next() function raises the StopIteration exception.\n",
    "\n",
    "Below is an example of how to use the iter() function and the next() function to print the first five elements of the list [2, 4, 6, 8, 10, 12, 14, 16, 18, 20]:"
   ]
  },
  {
   "cell_type": "code",
   "execution_count": 4,
   "id": "ba2490d3-2992-4a09-a9bc-fbc3a0bef9d5",
   "metadata": {},
   "outputs": [
    {
     "name": "stdout",
     "output_type": "stream",
     "text": [
      "2\n",
      "4\n",
      "6\n",
      "8\n",
      "10\n"
     ]
    }
   ],
   "source": [
    "l=[2, 4, 6, 8, 10, 12, 14, 16, 18, 20]\n",
    "a=iter(l)\n",
    "for x in range(1,6):\n",
    "    b=(next(a))\n",
    "    print(b)"
   ]
  },
  {
   "cell_type": "code",
   "execution_count": null,
   "id": "2b20c601-6002-40df-afff-4fc7a042e1c5",
   "metadata": {},
   "outputs": [],
   "source": [
    "Question 4: What is a generator function in python? Why yield keyword is used? Give an example of a generator function."
   ]
  },
  {
   "cell_type": "code",
   "execution_count": 6,
   "id": "ded9e3c1-8b46-4ef8-9ded-7d6640735c07",
   "metadata": {},
   "outputs": [
    {
     "name": "stdout",
     "output_type": "stream",
     "text": [
      "0 1 1 2 4 8 15 29 56 108 208 401 773 1490 2872 5536 10671 20569 39648 76424 147312 283953 547337 1055026 2033628 3919944 7555935 14564533 28074040 54114452 104308960 201061985 387559437 747044834 1439975216 2775641472 5350220959 10312882481 19878720128 38317465040 73859288608 142368356257 274423830033 528968939938 1019620414836 1965381541064 3788394725871 7302365621709 14075762303480 27131904192124 52298426843184 100808458960497 194314552299285 374553342295090 721974780398056 1391651133952928 2682493808945359 5170673065591433 9966792788887776 19211610797377496 37031570460802064 71380647112658769 137590621159726105 265214449530564434 511217288263751372 985403006066700680 1899425365020742591 3661260108881759077 7057305768232953720 13603394248202156068 26221385490337611456 50543345615654480321 97425431122427201565 187793556476621449410 361983718705040742752 697746051919743874048 1344948758223833267775 2592472085325239333985 4997150614173857218560 9632317509642673694368 18566888967365603514688 35788829176507373761601 68985186267689508189217 132973221921205159159874 256314126332767644625380 494061363698169685736072 952333898219831997710543 1835682610171974487231869 3538391998422743815303864 6820469870512719985982348 13146878377327270286228624 25341422856434708574746705 48847163102697442662261541 94155934206972141509219218 181491398543431563032456088 349835918709535855778683552 674330414562637002982620399 1299813666022576563302979257 2505471397838180985096739296 4829451397132930407161022504 9309066875556324958543361456\n"
     ]
    }
   ],
   "source": [
    "def test(m):\n",
    "    a,b,c,d=0,1,1,2\n",
    "    for x in range(m):\n",
    "        yield a \n",
    "        a,b,c,d=b,c,d,a+b+c+d\n",
    "    print(a)\n",
    "    \n",
    "for z in test(100):\n",
    "    print(z,end=\" \")"
   ]
  },
  {
   "cell_type": "code",
   "execution_count": null,
   "id": "46664170-0cb4-4554-b8a4-3a31c800a031",
   "metadata": {},
   "outputs": [],
   "source": [
    "Question 5 : Create a generator function for prime numbers less than 1000. Use the next() method to print the first 20 prime numbers"
   ]
  },
  {
   "cell_type": "code",
   "execution_count": 7,
   "id": "9a64104f-c6c0-4fd6-b6aa-777b45ccb44a",
   "metadata": {},
   "outputs": [
    {
     "name": "stdout",
     "output_type": "stream",
     "text": [
      "2 3 5 7 11 13 17 19 23 29 31 37 41 43 47 53 59 61 67 71 "
     ]
    }
   ],
   "source": [
    "def funct():\n",
    "    for z in range(2,1000):\n",
    "        for y in range(2,z):\n",
    "            if z%y==0:\n",
    "                break\n",
    "        else :\n",
    "            yield z\n",
    "            \n",
    "a=funct()\n",
    "for x in range(2,22):\n",
    "    print(next(a),end=\" \")"
   ]
  },
  {
   "cell_type": "code",
   "execution_count": null,
   "id": "42fe2ac1-074f-4fe4-9f12-3ff6cb982c56",
   "metadata": {},
   "outputs": [],
   "source": []
  }
 ],
 "metadata": {
  "kernelspec": {
   "display_name": "Python 3 (ipykernel)",
   "language": "python",
   "name": "python3"
  },
  "language_info": {
   "codemirror_mode": {
    "name": "ipython",
    "version": 3
   },
   "file_extension": ".py",
   "mimetype": "text/x-python",
   "name": "python",
   "nbconvert_exporter": "python",
   "pygments_lexer": "ipython3",
   "version": "3.10.8"
  }
 },
 "nbformat": 4,
 "nbformat_minor": 5
}
