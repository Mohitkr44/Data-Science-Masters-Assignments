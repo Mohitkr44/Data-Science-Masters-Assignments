{
 "cells": [
  {
   "cell_type": "code",
   "execution_count": null,
   "id": "ccd1502f-9c21-41bb-b2a9-4550e2a3c436",
   "metadata": {},
   "outputs": [],
   "source": [
    "Question 1: Create a function which will take a list as an argument and return the product of all the numbers after creating a flat list.\n",
    "Use the below-given list as an argument for your function.\n",
    "list1 = [1,2,3,4, [44,55,66, True], False, (34,56,78,89,34), {1,2,3,3,2,1}, {1:34, \"key2\": [55, 67, 78, 89], 4: (45,22, 61, 34)}, [56, 'data science'], 'Machine Learning']\n",
    "Note: you must extract numeric keys and values of the dictionary also."
   ]
  },
  {
   "cell_type": "code",
   "execution_count": 1,
   "id": "a72736f7-b5e1-4a17-acdc-20e32392c9cb",
   "metadata": {},
   "outputs": [
    {
     "name": "stdout",
     "output_type": "stream",
     "text": [
      "4134711838987085478833841242112000\n"
     ]
    }
   ],
   "source": [
    "list1 = [1,2,3,4, [44,55,66, True], False, (34,56,78,89,34), {1,2,3,3,2,1}, \n",
    "         {1:34, \"key2\": [55, 67, 78, 89], 4: (45,22, 61, 34)}, [56, 'data science'], 'Machine Learning']\n",
    "\n",
    "\n",
    "from functools import reduce \n",
    "\n",
    "def test(l):\n",
    "    a=[]\n",
    "    for x in list1 :\n",
    "        if type(x)==int or type(x)==str or type(x)==bool :\n",
    "            a.append(x)\n",
    "        elif type(x)==list or type(x)==tuple :\n",
    "            for b in x :\n",
    "                a.append(b)\n",
    "        elif type(x)==set :\n",
    "            for c in x :\n",
    "                a.append(c)\n",
    "        else :\n",
    "            for s in x.keys():\n",
    "                a.append(s)\n",
    "            for f in x.values():\n",
    "                if type(f)==int:\n",
    "                    a.append(f)\n",
    "                else :\n",
    "                    for g in f :\n",
    "                        a.append(g)\n",
    "    \n",
    "    o=list(filter(lambda z : type(z)==int , a))\n",
    "    p=reduce(lambda x,y:x*y , o)\n",
    "    return o,p\n",
    "\n",
    "\n",
    "o,p=test(list1)\n",
    "print(p)\n",
    "                "
   ]
  },
  {
   "cell_type": "code",
   "execution_count": null,
   "id": "e8dd277c-b3d2-46e2-9dbc-2f4a437c0605",
   "metadata": {},
   "outputs": [],
   "source": [
    "Question 2 : Write a python program for encrypting a message sent to you by your friend. The logic of encryption should be such that, for a the output should be z. For b, the output should be y. For c, the output should be x respectively. Also, the whitespace should be replaced with a dollar sign. Keep the punctuation marks unchanged.\n",
    "Input Sentence: I want to become a Data Scientist.\n",
    "Encrypt the above input sentence using the program you just created.\n",
    "Note: Convert the given input sentence into lowercase before encrypting. The final output should be lowercase."
   ]
  },
  {
   "cell_type": "code",
   "execution_count": 2,
   "id": "7fdeb7bd-c54d-442b-a0db-e8f5118070f4",
   "metadata": {},
   "outputs": [
    {
     "name": "stdout",
     "output_type": "stream",
     "text": [
      "Given string : I want to become a Data Scientist.\n",
      "\n",
      "Encrypted Message : r$dzmg$gl$yvxlnv$z$wzgz$hxrvmgrhg.\n"
     ]
    }
   ],
   "source": [
    "def Encrypt_msg(string):\n",
    "    lstring = string.lower()\n",
    "    print(f\"Given string : {string}\\n\")\n",
    "    new_string = \"\"\n",
    "    for i in lstring:\n",
    "        ascii_num = ord(i)\n",
    "        if ascii_num >= 97 and ascii_num <= 122:\n",
    "            new_string = new_string + chr(122 - (ascii_num - 97))\n",
    "        elif i == \" \":\n",
    "            new_string = new_string + \"$\"\n",
    "        else:\n",
    "            new_string = new_string + i\n",
    "    print(f\"Encrypted Message : {new_string}\")\n",
    "    \n",
    "    \n",
    "string = \"I want to become a Data Scientist.\"\n",
    "Encrypt_msg(string)"
   ]
  },
  {
   "cell_type": "code",
   "execution_count": null,
   "id": "82c2a7af-0624-4561-8df8-be8c2bed84e0",
   "metadata": {},
   "outputs": [],
   "source": []
  }
 ],
 "metadata": {
  "kernelspec": {
   "display_name": "Python 3 (ipykernel)",
   "language": "python",
   "name": "python3"
  },
  "language_info": {
   "codemirror_mode": {
    "name": "ipython",
    "version": 3
   },
   "file_extension": ".py",
   "mimetype": "text/x-python",
   "name": "python",
   "nbconvert_exporter": "python",
   "pygments_lexer": "ipython3",
   "version": "3.10.8"
  }
 },
 "nbformat": 4,
 "nbformat_minor": 5
}
