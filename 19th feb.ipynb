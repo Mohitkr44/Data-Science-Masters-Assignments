{
 "cells": [
  {
   "cell_type": "code",
   "execution_count": null,
   "id": "94175870-db11-44bd-aa06-7d2354d8827a",
   "metadata": {},
   "outputs": [],
   "source": [
    "Q1. What is Flask Framework? What are the advantages of Flask Framework?"
   ]
  },
  {
   "cell_type": "code",
   "execution_count": null,
   "id": "6c71db7f-fa21-40c7-a547-153d6c862414",
   "metadata": {},
   "outputs": [],
   "source": [
    "\"\"\"\n",
    "Flask is web framework that provides libraries to build lightweight web application in python. \n",
    "Based on WSGI toolkit adn jinja2 template engine. \n",
    "\n",
    "Advantages: \n",
    "- It is micro-framework so developing and maintaining websites makes easy \n",
    "- Routing URLs is very easy just use @app.route(\"\\\") before the functions\n",
    "- learning curve is easy and small compare to Django(another Webframework)\n",
    "- Simple and easy data base Integration \n",
    "- Efficient in handling small and medium sized application \n",
    "\n",
    "\"\"\""
   ]
  },
  {
   "cell_type": "code",
   "execution_count": null,
   "id": "f0fc8f2c-c891-4309-8f4c-f0d174bf89c6",
   "metadata": {},
   "outputs": [],
   "source": [
    "Question 2: Create a simple Flask application to display ‘Hello World!!’. Attach the screenshot of the output in Jupyter Notebook."
   ]
  },
  {
   "cell_type": "code",
   "execution_count": null,
   "id": "b3a0e750-1e29-44f6-b675-2b3b9710adb0",
   "metadata": {},
   "outputs": [],
   "source": [
    "Answer:\n",
    "Step 1: Installing dependency Flask"
   ]
  },
  {
   "cell_type": "code",
   "execution_count": 1,
   "id": "f60bc102-80ed-4872-bfa4-26fe6903276b",
   "metadata": {},
   "outputs": [
    {
     "name": "stdout",
     "output_type": "stream",
     "text": [
      "Collecting Flask\n",
      "  Downloading flask-2.3.3-py3-none-any.whl (96 kB)\n",
      "\u001b[2K     \u001b[90m━━━━━━━━━━━━━━━━━━━━━━━━━━━━━━━━━━━━━━━━\u001b[0m \u001b[32m96.1/96.1 kB\u001b[0m \u001b[31m4.0 MB/s\u001b[0m eta \u001b[36m0:00:00\u001b[0m\n",
      "\u001b[?25hRequirement already satisfied: click>=8.1.3 in /opt/conda/lib/python3.10/site-packages (from Flask) (8.1.3)\n",
      "Collecting blinker>=1.6.2\n",
      "  Downloading blinker-1.6.2-py3-none-any.whl (13 kB)\n",
      "Requirement already satisfied: Jinja2>=3.1.2 in /opt/conda/lib/python3.10/site-packages (from Flask) (3.1.2)\n",
      "Collecting itsdangerous>=2.1.2\n",
      "  Downloading itsdangerous-2.1.2-py3-none-any.whl (15 kB)\n",
      "Collecting Werkzeug>=2.3.7\n",
      "  Downloading werkzeug-2.3.7-py3-none-any.whl (242 kB)\n",
      "\u001b[2K     \u001b[90m━━━━━━━━━━━━━━━━━━━━━━━━━━━━━━━━━━━━━━\u001b[0m \u001b[32m242.2/242.2 kB\u001b[0m \u001b[31m29.9 MB/s\u001b[0m eta \u001b[36m0:00:00\u001b[0m\n",
      "\u001b[?25hRequirement already satisfied: MarkupSafe>=2.0 in /opt/conda/lib/python3.10/site-packages (from Jinja2>=3.1.2->Flask) (2.1.1)\n",
      "Installing collected packages: Werkzeug, itsdangerous, blinker, Flask\n",
      "  Attempting uninstall: blinker\n",
      "    Found existing installation: blinker 1.5\n",
      "    Uninstalling blinker-1.5:\n",
      "      Successfully uninstalled blinker-1.5\n",
      "Successfully installed Flask-2.3.3 Werkzeug-2.3.7 blinker-1.6.2 itsdangerous-2.1.2\n",
      "Note: you may need to restart the kernel to use updated packages.\n"
     ]
    }
   ],
   "source": [
    "%pip install Flask"
   ]
  },
  {
   "cell_type": "code",
   "execution_count": null,
   "id": "c0ce90b7-ad38-4da1-ac09-5e7c7c6f272a",
   "metadata": {},
   "outputs": [],
   "source": [
    "Step 2: Writing \"Hello World\" in Flask"
   ]
  },
  {
   "cell_type": "code",
   "execution_count": null,
   "id": "f4a2cce8-4098-4285-b411-571947842720",
   "metadata": {},
   "outputs": [
    {
     "name": "stdout",
     "output_type": "stream",
     "text": [
      " * Serving Flask app '__main__'\n",
      " * Debug mode: off\n"
     ]
    },
    {
     "name": "stderr",
     "output_type": "stream",
     "text": [
      "WARNING: This is a development server. Do not use it in a production deployment. Use a production WSGI server instead.\n",
      " * Running on all addresses (0.0.0.0)\n",
      " * Running on http://127.0.0.1:5000\n",
      " * Running on http://172.18.0.48:5000\n",
      "Press CTRL+C to quit\n"
     ]
    }
   ],
   "source": [
    "# Importing flask module\n",
    "from flask import Flask\n",
    "\n",
    "# Creating flask app object\n",
    "app = Flask(__name__)\n",
    "\n",
    "# Creating routing decorator for homepage\n",
    "@app.route(\"/\")\n",
    "def hello_world():\n",
    "    # This function prints Hello world inside Flask app center aligned\n",
    "    return \"<h1 align='center'>Hello, World!</h1>\"\n",
    "\n",
    "# Running the app\n",
    "if __name__==\"__main__\":\n",
    "    app.run(host=\"0.0.0.0\")"
   ]
  },
  {
   "cell_type": "code",
   "execution_count": null,
   "id": "53c5762c-b89d-421f-bbd8-38f10956de32",
   "metadata": {},
   "outputs": [],
   "source": [
    "Question 3: What is App routing in Flask? Why do we use app routes?"
   ]
  },
  {
   "cell_type": "code",
   "execution_count": null,
   "id": "816232d4-cdd9-437e-afc9-d0219bc3d4ff",
   "metadata": {},
   "outputs": [],
   "source": [
    "\"\"\"\n",
    "App Routing means mapping the URLs to a specific functions that will handle the logic for that URL\n",
    "Url ('/') is associated with the root url for example if site's domain is (www.example.org) and want to \n",
    "add routing to \"www.example.org/hello\" we could use \"/hello\" to our App Routing in Flask \n",
    "@app.route('/hello')\n",
    "def .....\n",
    "\n",
    "\n",
    "We use app route to make our web pages more functional and from a single webpage we can do soo many other \n",
    "things and functionality through our webpage not just one single page but via multiple routes \n",
    "\"\"\""
   ]
  },
  {
   "cell_type": "code",
   "execution_count": null,
   "id": "0d07595b-2fc3-47af-b483-25d633f24aaa",
   "metadata": {},
   "outputs": [],
   "source": [
    "Question 4: Create a “/welcome” route to display the welcome message “Welcome to ABC Corporation” and a “/” route to show the following details:\n",
    "Company Name: ABC Corporation\n",
    "\n",
    "Location: India\n",
    "\n",
    "Contact Detail: 999-999-9999\n",
    "\n",
    "Attach the screenshot of the output in Jupyter Notebook."
   ]
  },
  {
   "cell_type": "code",
   "execution_count": null,
   "id": "7aecdc2c-57f9-4cba-b834-e2e9d28651d6",
   "metadata": {},
   "outputs": [],
   "source": [
    "# Importing flask module\n",
    "from flask import Flask\n",
    "\n",
    "# Creating flask app object\n",
    "app = Flask(__name__)\n",
    "\n",
    "# Creating a route decorator to show welcome message \n",
    "@app.route(\"/welcome\")\n",
    "def welcome_msg():\n",
    "    # This function shows welcome message h1 center aligned\n",
    "    return \"<h1 align='center'>Welcome to ABC Corporation</h1>\"\n",
    "\n",
    "# Creating route decorator for showing company details\n",
    "@app.route(\"/\")\n",
    "def home_page():\n",
    "    # This function prints company details\n",
    "    return '''\n",
    "    <h1>Company Name: ABC Corporation</h1>\n",
    "    <p>Location: India</p>\n",
    "    <p>Contact Detail: 999-999-9999</p>\n",
    "    '''\n",
    "\n",
    "# Running the app\n",
    "if __name__==\"__main__\":\n",
    "    app.run(host=\"0.0.0.0\")"
   ]
  },
  {
   "cell_type": "code",
   "execution_count": null,
   "id": "e830d997-a40e-4912-a7fb-12467a88b49f",
   "metadata": {},
   "outputs": [],
   "source": [
    "Question 5: What function is used in Flask for URL Building? Write a Python code to demonstrate the working of the url_for() function"
   ]
  },
  {
   "cell_type": "code",
   "execution_count": null,
   "id": "726aee61-0f14-4b16-90f1-299aceff462d",
   "metadata": {},
   "outputs": [],
   "source": [
    "\"\"\"\n",
    "url_for() function is used to build URL to the specific function dynamically. \n",
    "by this we can avoid hard-coding the URLs into the templates by dynamically building them using this\n",
    "\n",
    "# \"\"\"\n",
    "from flask import Flask,redirect, url_for  \n",
    "   \n",
    "app = Flask(__name__)  \n",
    "  \n",
    "@app.route('/admin')  \n",
    "def admin():  \n",
    "    return 'admin'  \n",
    "  \n",
    "@app.route('/librarion')  \n",
    "def librarion():  \n",
    "    return 'librarion'  \n",
    "  \n",
    "@app.route('/student')  \n",
    "def student():  \n",
    "    return 'student'  \n",
    "  \n",
    "@app.route('/user/<name>')  \n",
    "def user(name):  \n",
    "    if name == 'admin':  \n",
    "        #if we add user/admin then this will redirect to admin automatically \n",
    "        return redirect(url_for('admin'))  \n",
    "    if name == 'librarion':  \n",
    "        return redirect(url_for('librarion'))  \n",
    "    if name == 'student':  \n",
    "        return redirect(url_for('student'))  \n",
    "if __name__ =='__main__':  \n",
    "    app.run(debug = True)  \n",
    "\n",
    "#so with the help url_for function we bind users weblink to our specific functions automatically\n",
    "#whenever we enter '127.0.0.1:5000/user/admin' it will be redirected to '127.0.0.1:5000/admin' and same with others "
   ]
  }
 ],
 "metadata": {
  "kernelspec": {
   "display_name": "Python 3 (ipykernel)",
   "language": "python",
   "name": "python3"
  },
  "language_info": {
   "codemirror_mode": {
    "name": "ipython",
    "version": 3
   },
   "file_extension": ".py",
   "mimetype": "text/x-python",
   "name": "python",
   "nbconvert_exporter": "python",
   "pygments_lexer": "ipython3",
   "version": "3.10.8"
  }
 },
 "nbformat": 4,
 "nbformat_minor": 5
}
