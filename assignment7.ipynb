{
 "cells": [
  {
   "cell_type": "code",
   "execution_count": null,
   "id": "4643968d-0f39-4713-84bf-5295b921f570",
   "metadata": {},
   "outputs": [],
   "source": [
    "Question 1: You are writing code for a company. The requirement of the company is that you create a python function that will check wether password entered by user is correct or not. The function should take password as input and return the string \"Valid Password\" if password follows below given password guidelines else it should return \"Invalid Password\"\n",
    "Note :\n",
    "The Password should contain atleast 2 uppercase letters and 2 lowercase letters.\n",
    "The Password should contain atleast a number and 3 special characters.\n",
    "The length of password should be 10 characters long."
   ]
  },
  {
   "cell_type": "code",
   "execution_count": 1,
   "id": "0f537c56-d158-4c05-bdee-3ea2c9195903",
   "metadata": {},
   "outputs": [
    {
     "name": "stdin",
     "output_type": "stream",
     "text": [
      "enter password Qwas1@sd\n"
     ]
    },
    {
     "name": "stdout",
     "output_type": "stream",
     "text": [
      "invalid password\n"
     ]
    }
   ],
   "source": [
    "def password_validation(password):\n",
    "    digit_count=0\n",
    "    lower_count=0\n",
    "    upper_count=0\n",
    "    special_count=0\n",
    "    \n",
    "    for x in password :\n",
    "        if x.isupper():\n",
    "            upper_count+=1\n",
    "        if x.islower():\n",
    "            lower_count+=1\n",
    "        if x.isdigit():\n",
    "            digit_count+=1\n",
    "        if not(x.isalnum()):\n",
    "            special_count+=1\n",
    "    if upper_count>=2 and lower_count>=2 and special_count>=3 and digit_count>=1 and len(password)==10:\n",
    "        print(\"valid password\")\n",
    "    else :\n",
    "        print(\"invalid password\")\n",
    "        \n",
    "password=input(\"enter password\")\n",
    "password_validation(password)"
   ]
  },
  {
   "cell_type": "code",
   "execution_count": null,
   "id": "38f9bd92-abad-4290-9d80-50d80860c5d0",
   "metadata": {},
   "outputs": [],
   "source": [
    "Q2. Solve the below-given questions using at least one of the following:\n",
    "Lambda function\n",
    "Filter function\n",
    "Map function\n",
    "List Comprehension\n",
    "Check if the string starts with a particular letter.\n",
    "Check if the string is numeric.\n",
    "Sort a list of tuples having fruit names and their quantity. [(\"mango\",99),(\"orange\",80), (\"grapes\", 1000)]\n",
    "Find the squares of numbers from 1 to 10.\n",
    "Find the cube root of numbers from 1 to 10.\n",
    "Check if a given number is even.\n",
    "Filter odd numbers from the given list. [1,2,3,4,5,6,7,8,9,10]\n",
    "Sort a list of integers into positive and negative integers lists. [1,2,3,4,5,6,-1,-2,-3,-4,-5,0]"
   ]
  },
  {
   "cell_type": "code",
   "execution_count": 2,
   "id": "45ba31ff-e8cb-476f-84d2-04c69883f3d8",
   "metadata": {},
   "outputs": [
    {
     "data": {
      "text/plain": [
       "True"
      ]
     },
     "execution_count": 2,
     "metadata": {},
     "output_type": "execute_result"
    }
   ],
   "source": [
    "#Check if the string starts with a particular letter\n",
    "\n",
    "a=\"Pwskills\"\n",
    "b=lambda a: a.startswith(\"P\")\n",
    "b(a)"
   ]
  },
  {
   "cell_type": "code",
   "execution_count": 3,
   "id": "baa7212b-be86-42dc-8e69-d6b1f57944fe",
   "metadata": {},
   "outputs": [
    {
     "data": {
      "text/plain": [
       "True"
      ]
     },
     "execution_count": 3,
     "metadata": {},
     "output_type": "execute_result"
    }
   ],
   "source": [
    "#Check if the string is numeric\n",
    "\n",
    "q=\"123\"\n",
    "x=lambda p: p.isnumeric()\n",
    "x(q)"
   ]
  },
  {
   "cell_type": "code",
   "execution_count": 4,
   "id": "6a7ea76e-dfb1-484c-ab5c-51538e9e2a65",
   "metadata": {},
   "outputs": [
    {
     "data": {
      "text/plain": [
       "[('orange', 80), ('mango', 99), ('grapes', 1000)]"
      ]
     },
     "execution_count": 4,
     "metadata": {},
     "output_type": "execute_result"
    }
   ],
   "source": [
    "#Sort a list of tuples having fruit names and their quantity. [(\"mango\",99),(\"orange\",80), (\"grapes\", 1000)] \n",
    "\n",
    "#sorting based on quantity\n",
    "\n",
    "l=[(\"mango\",99),(\"orange\",80), (\"grapes\", 1000)] \n",
    "a=sorted(l,key = lambda x :x[1])\n",
    "a"
   ]
  },
  {
   "cell_type": "code",
   "execution_count": 5,
   "id": "9d48e970-7d14-4c5d-a3b8-bc1f3b439c15",
   "metadata": {},
   "outputs": [
    {
     "data": {
      "text/plain": [
       "[('grapes', 1000), ('mango', 99), ('orange', 80)]"
      ]
     },
     "execution_count": 5,
     "metadata": {},
     "output_type": "execute_result"
    }
   ],
   "source": [
    "#sorting based on fruit names \n",
    "\n",
    "l=[(\"mango\",99),(\"orange\",80), (\"grapes\", 1000)] \n",
    "b=sorted(l,key=lambda x : x[0])\n",
    "b"
   ]
  },
  {
   "cell_type": "code",
   "execution_count": 6,
   "id": "9dfec93d-5a63-40dc-a22a-c7eba3661aaf",
   "metadata": {},
   "outputs": [
    {
     "data": {
      "text/plain": [
       "[1, 4, 9, 16, 25, 36, 49, 64, 81, 100]"
      ]
     },
     "execution_count": 6,
     "metadata": {},
     "output_type": "execute_result"
    }
   ],
   "source": [
    "#Find the squares of numbers from 1 to 10\n",
    "\n",
    "# method 1 ( using list comprehension )\n",
    "\n",
    "[ x**2 for x in range(1,11)]"
   ]
  },
  {
   "cell_type": "code",
   "execution_count": 7,
   "id": "d8cd8c1d-7ae2-47fc-bf40-fa8c68399e29",
   "metadata": {},
   "outputs": [
    {
     "data": {
      "text/plain": [
       "[1, 4, 9, 16, 25, 36, 49, 64, 81, 100]"
      ]
     },
     "execution_count": 7,
     "metadata": {},
     "output_type": "execute_result"
    }
   ],
   "source": [
    "# method 2 ( using lambda , map function )\n",
    "\n",
    "a=range(1,11)\n",
    "b=map(lambda x :pow(x,2),a)\n",
    "list(b)"
   ]
  },
  {
   "cell_type": "code",
   "execution_count": 8,
   "id": "ae1abbdd-0c04-4c2e-b005-e81f4dd28eb9",
   "metadata": {},
   "outputs": [
    {
     "data": {
      "text/plain": [
       "[1.0,\n",
       " 1.2599210498948732,\n",
       " 1.4422495703074083,\n",
       " 1.5874010519681994,\n",
       " 1.7099759466766968,\n",
       " 1.8171205928321397,\n",
       " 1.912931182772389,\n",
       " 2.0,\n",
       " 2.080083823051904,\n",
       " 2.154434690031884]"
      ]
     },
     "execution_count": 8,
     "metadata": {},
     "output_type": "execute_result"
    }
   ],
   "source": [
    "#Find the cube root of numbers from 1 to 10\n",
    "\n",
    "# method 1\n",
    "\n",
    "[ pow(x,(1/3)) for x in range(1,11)]"
   ]
  },
  {
   "cell_type": "code",
   "execution_count": 9,
   "id": "100ab960-614b-4e9b-9d69-f3ccac637b0e",
   "metadata": {},
   "outputs": [
    {
     "name": "stdout",
     "output_type": "stream",
     "text": [
      "[1.0, 1.2599210498948732, 1.4422495703074083, 1.5874010519681994, 1.7099759466766968, 1.8171205928321397, 1.912931182772389, 2.0, 2.080083823051904, 2.154434690031884] "
     ]
    }
   ],
   "source": [
    "# method 2\n",
    "\n",
    "a=range(1,11)\n",
    "b=map(lambda x :x**(1/3),a)\n",
    "print(list(b),end=\" \")"
   ]
  },
  {
   "cell_type": "code",
   "execution_count": 10,
   "id": "edb5a344-ddee-4478-9de8-09b3e9ea5c37",
   "metadata": {},
   "outputs": [
    {
     "name": "stdin",
     "output_type": "stream",
     "text": [
      "enter any number 122\n"
     ]
    },
    {
     "name": "stdout",
     "output_type": "stream",
     "text": [
      "even\n"
     ]
    }
   ],
   "source": [
    "# Check if a given number is even\n",
    "\n",
    "x=int(input(\"enter any number\"))\n",
    "y=lambda z : print(\"even\") if z%2==0 else print(\"odd\")\n",
    "y(x)"
   ]
  },
  {
   "cell_type": "code",
   "execution_count": 11,
   "id": "9afa7085-72c7-4f6a-b70f-1e8f7d5fe03a",
   "metadata": {},
   "outputs": [
    {
     "data": {
      "text/plain": [
       "[1, 3, 5, 7, 9]"
      ]
     },
     "execution_count": 11,
     "metadata": {},
     "output_type": "execute_result"
    }
   ],
   "source": [
    "# Filter odd numbers from the given list. [1,2,3,4,5,6,7,8,9,10]\n",
    "\n",
    "l=[1,2,3,4,5,6,7,8,9,10]\n",
    "list(filter(lambda x : x%2!=0 , l))"
   ]
  },
  {
   "cell_type": "code",
   "execution_count": 12,
   "id": "4b0ba9cb-ba43-4574-8e49-a9f9936cb51a",
   "metadata": {},
   "outputs": [
    {
     "name": "stdout",
     "output_type": "stream",
     "text": [
      "[1, 2, 3, 4, 5, 6] \n",
      " [-1, -2, -3, -4, -5]\n"
     ]
    }
   ],
   "source": [
    "#Sort a list of integers into positive and negative integers lists. [1,2,3,4,5,6,-1,-2,-3,-4,-5,0]\n",
    "\n",
    "# method 1 \n",
    "\n",
    "l=[1,2,3,4,5,6,-1,-2,-3,-4,-5,0]\n",
    "\n",
    "p=list(filter(lambda x : x>0 , l ))\n",
    "n=list(filter(lambda x : x<0 , l))\n",
    "print(p,\"\\n\",n)"
   ]
  },
  {
   "cell_type": "code",
   "execution_count": 13,
   "id": "c2b8ced4-ef71-4afb-814d-f92a02cc787e",
   "metadata": {},
   "outputs": [
    {
     "name": "stdout",
     "output_type": "stream",
     "text": [
      "[1, 2, 3, 4, 5, 6] \n",
      " [-1, -2, -3, -4, -5]\n"
     ]
    }
   ],
   "source": [
    "#Sort a list of integers into positive and negative integers lists. [1,2,3,4,5,6,-1,-2,-3,-4,-5,0]\n",
    "\n",
    "# method 1 \n",
    "\n",
    "l=[1,2,3,4,5,6,-1,-2,-3,-4,-5,0]\n",
    "\n",
    "p=list(filter(lambda x : x>0 , l ))\n",
    "n=list(filter(lambda x : x<0 , l))\n",
    "print(p,\"\\n\",n)"
   ]
  },
  {
   "cell_type": "code",
   "execution_count": null,
   "id": "ae23535a-e3b3-4816-a091-8c4e8ee79b43",
   "metadata": {},
   "outputs": [],
   "source": []
  }
 ],
 "metadata": {
  "kernelspec": {
   "display_name": "Python 3 (ipykernel)",
   "language": "python",
   "name": "python3"
  },
  "language_info": {
   "codemirror_mode": {
    "name": "ipython",
    "version": 3
   },
   "file_extension": ".py",
   "mimetype": "text/x-python",
   "name": "python",
   "nbconvert_exporter": "python",
   "pygments_lexer": "ipython3",
   "version": "3.10.8"
  }
 },
 "nbformat": 4,
 "nbformat_minor": 5
}
