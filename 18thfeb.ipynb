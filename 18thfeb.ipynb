{
 "cells": [
  {
   "cell_type": "code",
   "execution_count": null,
   "id": "45a4d18c-74dd-47fa-996d-f97921a80242",
   "metadata": {},
   "outputs": [],
   "source": [
    "Question 1: What is an API? Give an example, where an API is used in real life."
   ]
  },
  {
   "cell_type": "code",
   "execution_count": null,
   "id": "c809a674-b37b-4539-a4ea-76a5f669d8d0",
   "metadata": {},
   "outputs": [],
   "source": [
    "Answer:\n",
    "API stands for Application Programming Interface. It is a set of protocols, routines, and tools for building software applications. APIs allow different software systems to communicate with each other and exchange information, even if they are built using different programming languages, operating systems, or platforms.\n",
    "Real Life Example of one stock market API is the Alpha Vantage API. This API provides real-time and historical stock market data, as well as technical indicators and other financial data, for stocks, ETFs, mutual funds, and cryptocurrencies.\n",
    "Developers can use the Alpha Vantage API to build financial applications that require stock market data, such as stock trading platforms, portfolio trackers, and investment research tools. The API provides various endpoints to retrieve different types of data, including real-time stock quotes, intraday stock prices, daily stock prices, and stock performance metrics like moving averages, relative strength index (RSI), and Bollinger Bands.\n",
    "Other examples of stock market APIs include the Yahoo Finance API, IEX Cloud API, and the Google Finance API (although this one is no longer actively maintained). These APIs provide similar functionality, allowing developers to access financial data for use in their applications."
   ]
  },
  {
   "cell_type": "code",
   "execution_count": null,
   "id": "65b3416e-d93f-40ad-a0bb-6b3651785ec5",
   "metadata": {},
   "outputs": [],
   "source": [
    "Question 2: Give advantages and disadvantages of using API."
   ]
  },
  {
   "cell_type": "code",
   "execution_count": null,
   "id": "c85a739a-8660-4659-804c-5ed2efe724af",
   "metadata": {},
   "outputs": [],
   "source": [
    "Answer :\n",
    "Advantages of using API:\n",
    "Interoperability: APIs enable different software systems to interact with each other seamlessly, regardless of their underlying technologies or programming languages. This allows for greater interoperability between systems and can lead to more efficient and effective software development.\n",
    "\n",
    "Flexibility: APIs allow developers to create applications that are flexible and customizable. Developers can choose the specific functionality they need from an API and incorporate it into their applications, rather than building that functionality from scratch.\n",
    "\n",
    "Time and cost savings: APIs can save time and money for developers and organizations by providing ready-made solutions that can be easily integrated into existing systems. This can reduce the amount of time and resources needed to build new software applications.\n",
    "\n",
    "Innovation: APIs can spur innovation by allowing developers to create new applications that integrate with existing systems. This can lead to the development of new products and services that might not have been possible without APIs.\n",
    "\n",
    "Disadvantages of using API:\n",
    "Complexity: APIs can be complex to use and require technical expertise to implement and maintain. This can make it challenging for non-technical users to integrate with them.\n",
    "\n",
    "Security Risks: APIs can introduce security risks, such as data breaches or unauthorized access to sensitive data, if not implemented properly or if security protocols are not followed.\n",
    "\n",
    "Dependency: When an application relies heavily on a third-party API, it can create a dependency on that API. Any changes or disruptions to the API can have a significant impact on the application, leading to downtime or other issues.\n",
    "\n",
    "Limited functionality: APIs may not always provide all the functionality needed for a particular application. In such cases, developers may need to build custom solutions, which can be time-consuming and costly.\n",
    "\n",
    "Overall, APIs offer significant advantages for software development and integration, but it's important to consider the potential drawbacks and risks associated with their use. Developers should carefully evaluate the pros and cons of using APIs and choose the best approach for their particular needs."
   ]
  },
  {
   "cell_type": "code",
   "execution_count": null,
   "id": "eea3a3c7-d1da-4502-b4f8-726bd4591ec6",
   "metadata": {},
   "outputs": [],
   "source": [
    "Answer :\n",
    "A Web API, also known as a web service, is a type of API that is accessed over the web using HTTP requests and responses. Web APIs allow applications to exchange data with web servers and access resources such as databases, file systems, or other services.\n",
    "The main difference between an API and a Web API is that APIs can be accessed through different channels, including desktop applications, mobile apps, and embedded systems, whereas Web APIs are specifically designed to be accessed over the web using HTTP.\n",
    "Another difference is that Web APIs often use standard web technologies such as REST (Representational State Transfer) or SOAP (Simple Object Access Protocol) to exchange data between systems, while APIs may use a variety of communication protocols and data formats depending on their design.\n",
    "Differences between API and Web API are as per below:"
   ]
  },
  {
   "cell_type": "code",
   "execution_count": null,
   "id": "2230052e-4af2-4656-95e1-e81438f8b517",
   "metadata": {},
   "outputs": [],
   "source": [
    "API VS Web API\n",
    "\n",
    "API is set of protocols, routines, and tools for building software applications.\n",
    "It defines how software should interact and communicate with each other, \n",
    "enabling exchange of data and services.\n",
    "\n",
    "Web API that is specifically designed to be used over the web, via HTTP(S) requests. \n",
    "It allows developers to access the functionality of a web-based application or \n",
    "service, such as social media platforms by sending requests to specific URLs and\n",
    "receiving responses in a specified format, such as JSON or XML.\n"
   ]
  },
  {
   "cell_type": "code",
   "execution_count": null,
   "id": "f9cf8309-e0c0-4b48-9544-f4a6cd1c4ec7",
   "metadata": {},
   "outputs": [],
   "source": [
    "Question 4: Explain REST and SOAP Architecture. Mention shortcomings of SOAP."
   ]
  },
  {
   "cell_type": "code",
   "execution_count": null,
   "id": "d48e4b25-3fc6-466d-a983-967cfcff1926",
   "metadata": {},
   "outputs": [],
   "source": [
    "Answer :\n",
    "REST and SOAP are two different architectural styles for designing web services.\n",
    "REST (Representational State Transfer) is an architectural style that emphasizes the use of HTTP methods and resource URIs (Uniform Resource Identifiers) to represent and manipulate web resources. RESTful APIs typically use standard HTTP methods such as GET, POST, PUT, and DELETE to retrieve, create, update, and delete resources. REST is lightweight and scalable, and can be easily implemented using simple HTTP protocols.\n",
    "\n",
    "SOAP (Simple Object Access Protocol), on the other hand, is a protocol that defines a standard format for exchanging structured data between applications over the internet. SOAP relies on XML (Extensible Markup Language) as its messaging format, and typically uses the HTTP or SMTP (Simple Mail Transfer Protocol) protocols for communication. SOAP is highly structured and can be used for complex operations, but can also be more cumbersome to implement and use than RESTful APIs.\n",
    "\n",
    "Shortcomings of SOAP\n",
    "One of the main shortcomings of SOAP is its complexity. SOAP relies on a complex XML schema that can be difficult to read and understand, and the protocol itself can be cumbersome to implement and use. SOAP also tends to be more resource-intensive than RESTful APIs, which can make it less suitable for high-volume or low-bandwidth environments.\n",
    "\n",
    "Additionally, SOAP can be less flexible than REST, as it requires a strict adherence to a predefined interface and message format. This can make it difficult to customize or extend SOAP-based APIs to suit specific use cases or applications."
   ]
  },
  {
   "cell_type": "code",
   "execution_count": null,
   "id": "ef71c12e-fd3e-46f1-9c78-b2c43aceb750",
   "metadata": {},
   "outputs": [],
   "source": [
    "Question 5: Differentiate between REST and SOAP."
   ]
  },
  {
   "cell_type": "code",
   "execution_count": null,
   "id": "d0b48769-1c94-4e67-a63a-94786ce926d0",
   "metadata": {},
   "outputs": [],
   "source": [
    "\"\"\"\n",
    "SOAP API: \n",
    "- a set of protocol \n",
    "- Data trasport in XML Format\n",
    "- using SSL & WS-Security \n",
    "- works over HTTP, HTTPs, SMTP, XMPP\n",
    "- highly structured & bulk so only for large application\n",
    "\n",
    "REST API:\n",
    "- Architecture using HTTP\n",
    "- trasport data in JSON but it doesn't enforce message format XML or JSON \n",
    "- works with GET, POST, PUT, DELETE\n",
    "- less structured so less bulky \n",
    "- designed with mobile devices\n",
    "\"\"\""
   ]
  }
 ],
 "metadata": {
  "kernelspec": {
   "display_name": "Python 3 (ipykernel)",
   "language": "python",
   "name": "python3"
  },
  "language_info": {
   "codemirror_mode": {
    "name": "ipython",
    "version": 3
   },
   "file_extension": ".py",
   "mimetype": "text/x-python",
   "name": "python",
   "nbconvert_exporter": "python",
   "pygments_lexer": "ipython3",
   "version": "3.10.8"
  }
 },
 "nbformat": 4,
 "nbformat_minor": 5
}
