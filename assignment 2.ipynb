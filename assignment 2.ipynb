{
 "cells": [
  {
   "cell_type": "code",
   "execution_count": null,
   "id": "f6a1aa40-6d41-4cc7-9b09-d4ae7b1c9b9a",
   "metadata": {},
   "outputs": [],
   "source": [
    "Q1. Write a program to accept percentage from the user and display the grade according to the following criteria: \n",
    "Marks\tGrade\n",
    ">90\tA\n",
    ">80 and <= 90\tB\n",
    ">=60 and <= 80\tC\n",
    "below 60\tD"
   ]
  },
  {
   "cell_type": "code",
   "execution_count": 3,
   "id": "33f19290-d1a4-4ca6-9f2c-f6a23a4d0313",
   "metadata": {},
   "outputs": [
    {
     "name": "stdin",
     "output_type": "stream",
     "text": [
      "enter your marks 72\n"
     ]
    },
    {
     "name": "stdout",
     "output_type": "stream",
     "text": [
      "grade C\n"
     ]
    }
   ],
   "source": [
    "marks= int(input('enter your marks'))\n",
    "if marks > 90:\n",
    "    print('grade A')\n",
    "elif marks > 80 and marks <=90:\n",
    "    print('grade B')\n",
    "elif marks >=60 and marks <=80:\n",
    "    print('grade C')\n",
    "else:\n",
    "    print('grade D')"
   ]
  },
  {
   "cell_type": "code",
   "execution_count": null,
   "id": "283e6b28-4a9a-479d-8d38-9ce77fb61450",
   "metadata": {},
   "outputs": [],
   "source": [
    "Q2. Write a program to accept the cost price of a bike and display the road tax to be paid according to the following criteria: \n",
    "\n",
    "Tax\tCost Price (In Rs.)\n",
    "15%\t> 100000\n",
    "10%\t> 50000 and <= 100000\n",
    "5%\t<= 50000"
   ]
  },
  {
   "cell_type": "code",
   "execution_count": 4,
   "id": "ad4968ed-7518-4b1a-8511-9c6b87c72eb6",
   "metadata": {},
   "outputs": [
    {
     "name": "stdin",
     "output_type": "stream",
     "text": [
      "enter the cost price of your bike 73000\n"
     ]
    },
    {
     "name": "stdout",
     "output_type": "stream",
     "text": [
      "10%road tax\n"
     ]
    }
   ],
   "source": [
    "cost_price= int(input('enter the cost price of your bike'))\n",
    "if cost_price >100000:\n",
    "    print('15% road tax')\n",
    "elif cost_price >50000 and cost_price <=100000:\n",
    "    print ('10%road tax')\n",
    "else:\n",
    "    print('5% road tax')"
   ]
  },
  {
   "cell_type": "code",
   "execution_count": null,
   "id": "2e0c69c2-a472-4464-9f9d-7693a5b7177a",
   "metadata": {},
   "outputs": [],
   "source": [
    "Q3. Accept any city from the user and display monuments of that city.\n",
    "\n",
    "City\tMonument\n",
    "Delhi\tRed Fort\n",
    "Agra\tTaj Mahal\n",
    "Jaipur\tJal Mahal"
   ]
  },
  {
   "cell_type": "code",
   "execution_count": 5,
   "id": "271b7564-07e2-40e4-abc0-928c541ef78f",
   "metadata": {},
   "outputs": [
    {
     "name": "stdin",
     "output_type": "stream",
     "text": [
      "enter city name  agra\n"
     ]
    },
    {
     "name": "stdout",
     "output_type": "stream",
     "text": [
      "monument present here is taj mahal\n"
     ]
    }
   ],
   "source": [
    "city = input('enter city name ')\n",
    "if city == 'delhi':\n",
    "    print('monument present here is red fort')\n",
    "elif city== 'agra':\n",
    "    print('monument present here is taj mahal')\n",
    "elif city== 'jaipur':\n",
    "    print('manument present here is jal mahal')"
   ]
  },
  {
   "cell_type": "code",
   "execution_count": null,
   "id": "14f4e138-8668-444e-82c6-c5c38f23166d",
   "metadata": {},
   "outputs": [],
   "source": [
    "Q4. Check how many times a given number can be divided by 3 before it is less than or equal to 10. \n"
   ]
  },
  {
   "cell_type": "code",
   "execution_count": 6,
   "id": "845da200-15a8-43dc-adea-0dd3961bd74f",
   "metadata": {},
   "outputs": [
    {
     "name": "stdin",
     "output_type": "stream",
     "text": [
      "enter any number 9\n"
     ]
    },
    {
     "name": "stdout",
     "output_type": "stream",
     "text": [
      "Times the Number can be divided by Three : 0 times.\n"
     ]
    }
   ],
   "source": [
    "num = int(input(\"enter any number\"))\n",
    "counter = 0 \n",
    "while num >10:\n",
    "    num = num/3\n",
    "    print(num)\n",
    "    counter = counter+1\n",
    "print(f'Times the Number can be divided by Three : {counter} times.')"
   ]
  },
  {
   "cell_type": "code",
   "execution_count": null,
   "id": "7fc54946-ad3e-46b9-85cc-916940115932",
   "metadata": {},
   "outputs": [],
   "source": [
    "Q5. Why and When to use While loop in python give a detailed description with example"
   ]
  },
  {
   "cell_type": "code",
   "execution_count": null,
   "id": "afce8136-82d0-4dc0-9b40-cef5adad5d68",
   "metadata": {},
   "outputs": [],
   "source": [
    "Ans: The while loop in Python is used when one wants to repeatedly execute a block of code as long as a certain condition is correct . The loop continues to execute as long as the condition is True."
   ]
  },
  {
   "cell_type": "code",
   "execution_count": 7,
   "id": "770c592d-55a9-456b-865e-1bc1c072b29f",
   "metadata": {},
   "outputs": [
    {
     "name": "stdout",
     "output_type": "stream",
     "text": [
      "20\n",
      "21\n",
      "22\n",
      "23\n",
      "24\n",
      "25\n",
      "26\n",
      "27\n",
      "28\n",
      "29\n",
      "30\n",
      "31\n",
      "32\n",
      "33\n",
      "34\n",
      "35\n"
     ]
    }
   ],
   "source": [
    "#For example :-\n",
    "a=20\n",
    "while a <=35 :\n",
    "    print(a)\n",
    "    a+=1"
   ]
  },
  {
   "cell_type": "code",
   "execution_count": null,
   "id": "9b6e6d2f-50d7-477a-8758-56c5d1c48638",
   "metadata": {},
   "outputs": [],
   "source": [
    "Q6. Use nested while loop to print 3 different pattern."
   ]
  },
  {
   "cell_type": "code",
   "execution_count": 8,
   "id": "51d62936-0acb-44db-a4ab-4f590129de15",
   "metadata": {},
   "outputs": [
    {
     "name": "stdin",
     "output_type": "stream",
     "text": [
      "enter number of rows  15\n"
     ]
    },
    {
     "name": "stdout",
     "output_type": "stream",
     "text": [
      "**************\n",
      "*************\n",
      "************\n",
      "***********\n",
      "**********\n",
      "*********\n",
      "********\n",
      "*******\n",
      "******\n",
      "*****\n",
      "****\n",
      "***\n",
      "**\n",
      "*\n",
      "\n"
     ]
    }
   ],
   "source": [
    "#PATTERN 1 \n",
    "\n",
    "a=int(input(\"enter number of rows \"))\n",
    "while a>0 :\n",
    "    a-=1\n",
    "    print(\"*\"*a)"
   ]
  },
  {
   "cell_type": "code",
   "execution_count": 9,
   "id": "eafbbd49-3c68-42fa-90d9-31c42ddc2d8b",
   "metadata": {},
   "outputs": [
    {
     "name": "stdin",
     "output_type": "stream",
     "text": [
      "enter number of rows  9\n"
     ]
    },
    {
     "name": "stdout",
     "output_type": "stream",
     "text": [
      "        *\n",
      "       **\n",
      "      ***\n",
      "     ****\n",
      "    *****\n",
      "   ******\n",
      "  *******\n",
      " ********\n",
      "*********\n"
     ]
    }
   ],
   "source": [
    "#PATTERN 2\n",
    "\n",
    "a=int(input('enter number of rows '))\n",
    "b=1 \n",
    "while a>0 :\n",
    "    a-=1\n",
    "    print(\" \"*a , end =\"*\"*b +\"\\n\")\n",
    "    b+=1"
   ]
  },
  {
   "cell_type": "code",
   "execution_count": 10,
   "id": "debff784-1880-4da0-a526-08c80cb6911c",
   "metadata": {},
   "outputs": [
    {
     "name": "stdin",
     "output_type": "stream",
     "text": [
      "enter number of rows  10\n"
     ]
    },
    {
     "name": "stdout",
     "output_type": "stream",
     "text": [
      "         *         \n",
      "        ***        \n",
      "       *****       \n",
      "      *******      \n",
      "     *********     \n",
      "    ***********    \n",
      "   *************   \n",
      "  ***************  \n",
      " ***************** \n",
      "*******************\n"
     ]
    }
   ],
   "source": [
    "# PATTERN 3 \n",
    "\n",
    "a=int(input(\"enter number of rows \"))\n",
    "b=1\n",
    "while a >0 :\n",
    "    a-=1\n",
    "    print(\" \"*a + \"*\"*b , end =\" \"*a +\"\\n\")\n",
    "    b+=2"
   ]
  },
  {
   "cell_type": "code",
   "execution_count": null,
   "id": "c53fb941-9cae-4812-9c32-764607f4b8ed",
   "metadata": {},
   "outputs": [],
   "source": [
    "7. Reverse a while loop to display numbers from 10 to 1 "
   ]
  },
  {
   "cell_type": "code",
   "execution_count": 11,
   "id": "a7f4ee96-3564-4fcd-9933-f69089f22210",
   "metadata": {},
   "outputs": [
    {
     "name": "stdout",
     "output_type": "stream",
     "text": [
      "10\n",
      "9\n",
      "8\n",
      "7\n",
      "6\n",
      "5\n",
      "4\n",
      "3\n",
      "2\n",
      "1\n"
     ]
    }
   ],
   "source": [
    "a=10\n",
    "while a >0 :\n",
    "    print(a)\n",
    "    a-=1\n"
   ]
  },
  {
   "cell_type": "code",
   "execution_count": null,
   "id": "1ce35cfe-8de1-4a10-9e19-72866e7726d6",
   "metadata": {},
   "outputs": [],
   "source": []
  }
 ],
 "metadata": {
  "kernelspec": {
   "display_name": "Python 3 (ipykernel)",
   "language": "python",
   "name": "python3"
  },
  "language_info": {
   "codemirror_mode": {
    "name": "ipython",
    "version": 3
   },
   "file_extension": ".py",
   "mimetype": "text/x-python",
   "name": "python",
   "nbconvert_exporter": "python",
   "pygments_lexer": "ipython3",
   "version": "3.10.8"
  }
 },
 "nbformat": 4,
 "nbformat_minor": 5
}
